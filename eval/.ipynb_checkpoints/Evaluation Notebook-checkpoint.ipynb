{
 "cells": [
  {
   "cell_type": "code",
   "execution_count": 10,
   "metadata": {},
   "outputs": [],
   "source": [
    "import matplotlib.pyplot as plt\n",
    "import numpy as np\n",
    "import pandas as pd\n",
    "import math\n",
    "import time\n",
    "from datetime import datetime"
   ]
  },
  {
   "cell_type": "code",
   "execution_count": 255,
   "metadata": {},
   "outputs": [],
   "source": [
    "df = pd.read_csv(\"../boston_kaggle/cab_rides.csv\")\n",
    "df['time_stamp'] = df['time_stamp']/1000\n",
    "df = df.sort_values(by = \"time_stamp\")\n",
    "#make assumption that drivers are driving at 40 mph - get duration in seconds\n",
    "df['duration'] = df['distance'] / 40 * 60 * 60\n",
    "df = df.reset_index(drop=True)\n",
    "df = df.fillna(0)"
   ]
  },
  {
   "cell_type": "code",
   "execution_count": 230,
   "metadata": {},
   "outputs": [],
   "source": [
    "old_df = df.copy()"
   ]
  },
  {
   "cell_type": "code",
   "execution_count": 231,
   "metadata": {},
   "outputs": [
    {
     "data": {
      "text/plain": [
       "Index(['distance', 'cab_type', 'time_stamp', 'destination', 'source', 'price',\n",
       "       'surge_multiplier', 'id', 'product_id', 'name', 'duration'],\n",
       "      dtype='object')"
      ]
     },
     "execution_count": 231,
     "metadata": {},
     "output_type": "execute_result"
    }
   ],
   "source": [
    "df.columns"
   ]
  },
  {
   "cell_type": "code",
   "execution_count": 232,
   "metadata": {},
   "outputs": [
    {
     "name": "stdout",
     "output_type": "stream",
     "text": [
      "        distance cab_type    time_stamp              destination  \\\n",
      "0           3.03     Lyft  1.543204e+09         Theatre District   \n",
      "1           1.57     Uber  1.543204e+09                North End   \n",
      "2           1.30     Uber  1.543204e+09         Theatre District   \n",
      "3           2.71     Uber  1.543204e+09                   Fenway   \n",
      "4           2.43     Lyft  1.543204e+09              Beacon Hill   \n",
      "5           2.71     Uber  1.543204e+09                   Fenway   \n",
      "6           2.71     Uber  1.543204e+09                   Fenway   \n",
      "7           2.19     Uber  1.543204e+09                North End   \n",
      "8           3.05     Uber  1.543204e+09                   Fenway   \n",
      "9           2.19     Uber  1.543204e+09                North End   \n",
      "10          2.19     Uber  1.543204e+09                North End   \n",
      "11          2.22     Lyft  1.543204e+09  Northeastern University   \n",
      "12          4.46     Lyft  1.543204e+09       Financial District   \n",
      "13          4.46     Lyft  1.543204e+09       Financial District   \n",
      "14          2.30     Lyft  1.543204e+09        Boston University   \n",
      "15          2.30     Lyft  1.543204e+09        Boston University   \n",
      "16          2.30     Lyft  1.543204e+09        Boston University   \n",
      "17          1.16     Uber  1.543204e+09         Theatre District   \n",
      "18          2.50     Uber  1.543204e+09              Beacon Hill   \n",
      "19          0.56     Uber  1.543204e+09         Haymarket Square   \n",
      "20          2.50     Uber  1.543204e+09              Beacon Hill   \n",
      "21          2.66     Uber  1.543204e+09                   Fenway   \n",
      "22          2.66     Uber  1.543204e+09                   Fenway   \n",
      "23          2.66     Uber  1.543204e+09                   Fenway   \n",
      "24          2.66     Uber  1.543204e+09                   Fenway   \n",
      "25          2.80     Uber  1.543204e+09        Boston University   \n",
      "26          2.66     Uber  1.543204e+09                   Fenway   \n",
      "27          2.66     Uber  1.543204e+09                   Fenway   \n",
      "28          1.23     Lyft  1.543204e+09                 West End   \n",
      "29          1.23     Lyft  1.543204e+09                 West End   \n",
      "...          ...      ...           ...                      ...   \n",
      "693041      2.30     Uber  1.545161e+09                 Back Bay   \n",
      "693042      2.30     Uber  1.545161e+09                 Back Bay   \n",
      "693043      4.55     Uber  1.545161e+09       Financial District   \n",
      "693044      1.44     Lyft  1.545161e+09                 Back Bay   \n",
      "693045      3.91     Uber  1.545161e+09       Financial District   \n",
      "693046      1.87     Lyft  1.545161e+09            South Station   \n",
      "693047      1.87     Lyft  1.545161e+09            South Station   \n",
      "693048      1.50     Uber  1.545161e+09                 Back Bay   \n",
      "693049      1.50     Uber  1.545161e+09                 Back Bay   \n",
      "693050      1.50     Uber  1.545161e+09                 Back Bay   \n",
      "693051      1.50     Uber  1.545161e+09                 Back Bay   \n",
      "693052      1.16     Uber  1.545161e+09                 West End   \n",
      "693053      1.16     Uber  1.545161e+09                 West End   \n",
      "693054      2.66     Uber  1.545161e+09                   Fenway   \n",
      "693055      1.16     Uber  1.545161e+09                 West End   \n",
      "693056      2.66     Uber  1.545161e+09                   Fenway   \n",
      "693057      0.46     Lyft  1.545161e+09            South Station   \n",
      "693058      2.66     Uber  1.545161e+09                   Fenway   \n",
      "693059      2.66     Uber  1.545161e+09         Theatre District   \n",
      "693060      2.66     Uber  1.545161e+09         Theatre District   \n",
      "693061      2.66     Uber  1.545161e+09         Theatre District   \n",
      "693062      2.80     Lyft  1.545161e+09                 West End   \n",
      "693063      2.66     Uber  1.545161e+09         Theatre District   \n",
      "693064      2.66     Uber  1.545161e+09         Theatre District   \n",
      "693065      2.40     Lyft  1.545161e+09              Beacon Hill   \n",
      "693066      2.40     Lyft  1.545161e+09              Beacon Hill   \n",
      "693067      2.48     Uber  1.545161e+09            South Station   \n",
      "693068      2.40     Lyft  1.545161e+09              Beacon Hill   \n",
      "693069      2.40     Lyft  1.545161e+09              Beacon Hill   \n",
      "693070      2.40     Lyft  1.545161e+09              Beacon Hill   \n",
      "\n",
      "                         source  price  surge_multiplier  \\\n",
      "0             Boston University   34.0              1.00   \n",
      "1              Theatre District    NaN              1.00   \n",
      "2                 South Station   18.5              1.00   \n",
      "3              Theatre District   19.5              1.00   \n",
      "4       Northeastern University   10.5              1.00   \n",
      "5              Theatre District   32.0              1.00   \n",
      "6              Theatre District    NaN              1.00   \n",
      "7                   Beacon Hill    8.0              1.00   \n",
      "8                 North Station   10.5              1.00   \n",
      "9                   Beacon Hill   13.0              1.00   \n",
      "10                  Beacon Hill   17.5              1.00   \n",
      "11             Theatre District    7.0              1.00   \n",
      "12            Boston University   47.5              1.75   \n",
      "13            Boston University   62.5              1.75   \n",
      "14                  Beacon Hill   16.5              1.00   \n",
      "15                  Beacon Hill    3.5              1.00   \n",
      "16                  Beacon Hill    9.0              1.00   \n",
      "17             Haymarket Square    NaN              1.00   \n",
      "18                South Station   28.5              1.00   \n",
      "19                North Station    7.0              1.00   \n",
      "20                South Station    NaN              1.00   \n",
      "21             Theatre District   16.0              1.00   \n",
      "22             Theatre District   10.0              1.00   \n",
      "23             Theatre District    NaN              1.00   \n",
      "24             Theatre District   20.5              1.00   \n",
      "25                     West End   10.0              1.00   \n",
      "26             Theatre District   27.5              1.00   \n",
      "27             Theatre District    9.5              1.00   \n",
      "28                    North End    5.0              1.00   \n",
      "29                    North End    7.0              1.00   \n",
      "...                         ...    ...               ...   \n",
      "693041         Haymarket Square   33.0              1.00   \n",
      "693042         Haymarket Square   11.5              1.00   \n",
      "693043  Northeastern University   30.5              1.00   \n",
      "693044                   Fenway    7.0              1.00   \n",
      "693045        Boston University   12.0              1.00   \n",
      "693046                 Back Bay   19.5              1.00   \n",
      "693047                 Back Bay   16.5              1.00   \n",
      "693048                   Fenway    NaN              1.00   \n",
      "693049                   Fenway    7.0              1.00   \n",
      "693050                   Fenway   12.0              1.00   \n",
      "693051                   Fenway    7.0              1.00   \n",
      "693052                North End   27.5              1.00   \n",
      "693053                North End    NaN              1.00   \n",
      "693054         Theatre District    9.5              1.00   \n",
      "693055                North End   11.5              1.00   \n",
      "693056         Theatre District    NaN              1.00   \n",
      "693057       Financial District    3.0              1.00   \n",
      "693058         Theatre District    9.0              1.00   \n",
      "693059                   Fenway   33.5              1.00   \n",
      "693060                   Fenway   11.5              1.00   \n",
      "693061                   Fenway   11.5              1.00   \n",
      "693062  Northeastern University   26.0              1.00   \n",
      "693063                   Fenway   11.0              1.00   \n",
      "693064                   Fenway    NaN              1.00   \n",
      "693065  Northeastern University    7.0              1.00   \n",
      "693066  Northeastern University   10.5              1.00   \n",
      "693067              Beacon Hill   14.0              1.00   \n",
      "693068  Northeastern University   16.5              1.00   \n",
      "693069  Northeastern University   16.5              1.00   \n",
      "693070  Northeastern University   32.5              1.00   \n",
      "\n",
      "                                          id  \\\n",
      "0       ef4771c2-c88d-4730-aaf7-a95751e9d27e   \n",
      "1       9962f244-8fce-4ae9-a583-139d5d7522e1   \n",
      "2       00ea74ea-2c49-416c-bfc5-f7877025f6eb   \n",
      "3       8682f9bf-5cc0-4dfc-b8fe-4e22070d1684   \n",
      "4       edfc7f44-97e1-48cd-930c-e4fe20e88ac8   \n",
      "5       6172077a-22de-481b-aae2-b5763c87a6c4   \n",
      "6       2ee597c2-b685-450e-b3a2-2df42fb18d49   \n",
      "7       bb3f969d-3190-4bb8-9a84-dff2deba0a98   \n",
      "8       f67b0a6b-08f9-43bb-b47d-efad7310d4c7   \n",
      "9       cec0651f-2280-48ac-86bf-cb0152cada9e   \n",
      "10      90e22612-d1c7-47c2-af54-2a2240109889   \n",
      "11      9f82af6e-e67f-452a-8d63-f860cb7ff277   \n",
      "12      3b5af7f6-40ba-42f2-a218-971dcba4f33e   \n",
      "13      1178f52c-9bd4-4b28-a03a-d94e68bfafa3   \n",
      "14      f3f35cea-9a3f-4534-930d-da42e7610f77   \n",
      "15      d9852684-4e38-494c-ad6d-d8090e857ba9   \n",
      "16      d3d168df-a1b6-4de3-b1a1-7d1fb464bd41   \n",
      "17      63fbb593-95ba-4b74-88d1-e3eb0d99fe33   \n",
      "18      75ae9f8d-8fb4-4508-a356-a8abb85fb9d7   \n",
      "19      a7b50600-c6c5-4e6c-bea9-4487344196d4   \n",
      "20      68c01519-3da8-4f84-b113-48cf6d1441db   \n",
      "21      99f3cf40-809b-4962-9d9e-acaea3afc9d6   \n",
      "22      3aa19022-d060-4b43-8804-b31a9b5e23ab   \n",
      "23      6efc3adf-ed3b-4301-8a17-057170d89761   \n",
      "24      6a0c20d8-1964-4ad9-9595-9517174aae79   \n",
      "25      71fff528-8d60-4d06-abc0-e36871db784b   \n",
      "26      b5805509-bd76-49f9-a288-6cc048839fa1   \n",
      "27      429e66a4-6fd7-4adc-9bf9-61be42d9e53f   \n",
      "28      89f35ef7-7129-483d-b3e6-d89afdf6946d   \n",
      "29      4aa68a5d-abc0-4fdf-a47f-0003617afbae   \n",
      "...                                      ...   \n",
      "693041  98a8f536-3877-4353-97b8-0207a1bf9c83   \n",
      "693042  b73e5fd8-9f99-4595-9976-654be26a76c8   \n",
      "693043  9d29a29d-4d8f-44c4-b400-621b4f33301b   \n",
      "693044  355fd05f-36b0-4b1f-b7dd-1e27e37046d9   \n",
      "693045  7273d46d-3270-43ef-9fbc-c218f45c3496   \n",
      "693046  3ed61fe7-b8cd-4e38-b476-7310d2921053   \n",
      "693047  03bfd169-4861-49e8-961e-11445dc337cf   \n",
      "693048  eff602f0-ff8e-4ef1-b320-ae402713852d   \n",
      "693049  44ba18c3-07aa-432f-acfe-01ae0b2cb59e   \n",
      "693050  252a31fd-0bdf-4d8e-9849-a5b87ff7b0f7   \n",
      "693051  1ae16837-2581-4b81-bad4-3b6fd2315fe8   \n",
      "693052  fcd9e3c6-ea4b-4456-ba81-0e806fe21cc5   \n",
      "693053  fc22634a-9ea6-4ca2-9427-4a04527407c6   \n",
      "693054  dbbb7ed1-e054-4c52-a222-c7ad7024ca9f   \n",
      "693055  b1cf133f-627a-45ee-aa25-0ffc94b9e6c6   \n",
      "693056  a81fbe76-147d-4116-ac41-0d197e1c0ade   \n",
      "693057  e0497e3a-3ddc-4ee9-aeec-0a539315d42b   \n",
      "693058  fe6df7f1-daef-4bf7-b90a-ff31c4281b60   \n",
      "693059  20caa061-2ded-49f8-882b-1e7eae6285ff   \n",
      "693060  4e04bf74-ba6f-4737-ad65-d435ee91b0b0   \n",
      "693061  3cf33815-0e81-436e-9a54-d4f78a2ce08a   \n",
      "693062  4175e5aa-04e3-43a9-a7a5-e460b08091be   \n",
      "693063  55d10c8f-a6e5-477d-8aa4-b1430407dd0e   \n",
      "693064  91313e02-5248-443a-80a3-8a819bd154be   \n",
      "693065  24712695-5b52-4886-955f-39c4bcd7c200   \n",
      "693066  12b81ef2-422b-4a39-9ef7-701c0f197cea   \n",
      "693067  e7ff1618-2d8b-4d13-a798-593858064a9e   \n",
      "693068  11379a6c-1477-4501-ab22-d3a2165107d3   \n",
      "693069  b6710feb-4586-4c61-a2cf-cd4025ae8587   \n",
      "693070  a67a3e6e-7e21-4199-af07-b5532b125b67   \n",
      "\n",
      "                                  product_id          name  duration  \n",
      "0                                lyft_luxsuv  Lux Black XL     272.7  \n",
      "1       8cf7e821-f0d3-49c6-8eba-e679c0ebcf6a          Taxi     141.3  \n",
      "2       6c84fd89-3f11-4782-9b50-97c468b19529         Black     117.0  \n",
      "3       55c66225-fbe7-4fd5-9072-eab1ece5e23e         UberX     243.9  \n",
      "4                                       lyft          Lyft     218.7  \n",
      "5       6f72dfc5-27f1-42e8-84db-ccc7a75f6969        UberXL     243.9  \n",
      "6       8cf7e821-f0d3-49c6-8eba-e679c0ebcf6a          Taxi     243.9  \n",
      "7       55c66225-fbe7-4fd5-9072-eab1ece5e23e         UberX     197.1  \n",
      "8       9a0e7b09-b92b-4c41-9779-2ad22b4d779d           WAV     274.5  \n",
      "9       6f72dfc5-27f1-42e8-84db-ccc7a75f6969        UberXL     197.1  \n",
      "10      6c84fd89-3f11-4782-9b50-97c468b19529         Black     197.1  \n",
      "11                                 lyft_line        Shared     199.8  \n",
      "12                              lyft_premier           Lux     401.4  \n",
      "13                                  lyft_lux     Lux Black     401.4  \n",
      "14                              lyft_premier           Lux     207.0  \n",
      "15                                 lyft_line        Shared     207.0  \n",
      "16                                      lyft          Lyft     207.0  \n",
      "17      8cf7e821-f0d3-49c6-8eba-e679c0ebcf6a          Taxi     104.4  \n",
      "18      6d318bcc-22a3-4af6-bddd-b409bfce1546     Black SUV     225.0  \n",
      "19      55c66225-fbe7-4fd5-9072-eab1ece5e23e         UberX      50.4  \n",
      "20      8cf7e821-f0d3-49c6-8eba-e679c0ebcf6a          Taxi     225.0  \n",
      "21      6f72dfc5-27f1-42e8-84db-ccc7a75f6969        UberXL     239.4  \n",
      "22      997acbb5-e102-41e1-b155-9df7de0a73f2      UberPool     239.4  \n",
      "23      8cf7e821-f0d3-49c6-8eba-e679c0ebcf6a          Taxi     239.4  \n",
      "24      6c84fd89-3f11-4782-9b50-97c468b19529         Black     239.4  \n",
      "25      997acbb5-e102-41e1-b155-9df7de0a73f2      UberPool     252.0  \n",
      "26      6d318bcc-22a3-4af6-bddd-b409bfce1546     Black SUV     239.4  \n",
      "27      9a0e7b09-b92b-4c41-9779-2ad22b4d779d           WAV     239.4  \n",
      "28                                 lyft_line        Shared     110.7  \n",
      "29                                      lyft          Lyft     110.7  \n",
      "...                                      ...           ...       ...  \n",
      "693041  6d318bcc-22a3-4af6-bddd-b409bfce1546     Black SUV     207.0  \n",
      "693042  9a0e7b09-b92b-4c41-9779-2ad22b4d779d           WAV     207.0  \n",
      "693043  6c84fd89-3f11-4782-9b50-97c468b19529         Black     409.5  \n",
      "693044                                  lyft          Lyft     129.6  \n",
      "693045  997acbb5-e102-41e1-b155-9df7de0a73f2      UberPool     351.9  \n",
      "693046                          lyft_premier           Lux     168.3  \n",
      "693047                             lyft_plus       Lyft XL     168.3  \n",
      "693048  8cf7e821-f0d3-49c6-8eba-e679c0ebcf6a          Taxi     135.0  \n",
      "693049  9a0e7b09-b92b-4c41-9779-2ad22b4d779d           WAV     135.0  \n",
      "693050  6f72dfc5-27f1-42e8-84db-ccc7a75f6969        UberXL     135.0  \n",
      "693051  55c66225-fbe7-4fd5-9072-eab1ece5e23e         UberX     135.0  \n",
      "693052  6d318bcc-22a3-4af6-bddd-b409bfce1546     Black SUV     104.4  \n",
      "693053  8cf7e821-f0d3-49c6-8eba-e679c0ebcf6a          Taxi     104.4  \n",
      "693054  55c66225-fbe7-4fd5-9072-eab1ece5e23e         UberX     239.4  \n",
      "693055  6f72dfc5-27f1-42e8-84db-ccc7a75f6969        UberXL     104.4  \n",
      "693056  8cf7e821-f0d3-49c6-8eba-e679c0ebcf6a          Taxi     239.4  \n",
      "693057                             lyft_line        Shared      41.4  \n",
      "693058  997acbb5-e102-41e1-b155-9df7de0a73f2      UberPool     239.4  \n",
      "693059  6d318bcc-22a3-4af6-bddd-b409bfce1546     Black SUV     239.4  \n",
      "693060  9a0e7b09-b92b-4c41-9779-2ad22b4d779d           WAV     239.4  \n",
      "693061  55c66225-fbe7-4fd5-9072-eab1ece5e23e         UberX     239.4  \n",
      "693062                              lyft_lux     Lux Black     252.0  \n",
      "693063  997acbb5-e102-41e1-b155-9df7de0a73f2      UberPool     239.4  \n",
      "693064  8cf7e821-f0d3-49c6-8eba-e679c0ebcf6a          Taxi     239.4  \n",
      "693065                             lyft_line        Shared     216.0  \n",
      "693066                                  lyft          Lyft     216.0  \n",
      "693067  6f72dfc5-27f1-42e8-84db-ccc7a75f6969        UberXL     223.2  \n",
      "693068                          lyft_premier           Lux     216.0  \n",
      "693069                             lyft_plus       Lyft XL     216.0  \n",
      "693070                           lyft_luxsuv  Lux Black XL     216.0  \n",
      "\n",
      "[693071 rows x 11 columns]\n"
     ]
    }
   ],
   "source": [
    "print(df)"
   ]
  },
  {
   "cell_type": "code",
   "execution_count": 233,
   "metadata": {},
   "outputs": [
    {
     "data": {
      "text/plain": [
       "distance                                            1.45\n",
       "cab_type                                            Lyft\n",
       "time_stamp                                   1.54321e+09\n",
       "destination                                       Fenway\n",
       "source                                          Back Bay\n",
       "price                                               10.5\n",
       "surge_multiplier                                       1\n",
       "id                  e57bd38c-cb92-414a-be2f-322beb26e8ad\n",
       "product_id                                     lyft_plus\n",
       "name                                             Lyft XL\n",
       "duration                                           130.5\n",
       "Name: 100, dtype: object"
      ]
     },
     "execution_count": 233,
     "metadata": {},
     "output_type": "execute_result"
    }
   ],
   "source": [
    "df.iloc[100]"
   ]
  },
  {
   "cell_type": "code",
   "execution_count": 256,
   "metadata": {},
   "outputs": [],
   "source": [
    "time_start = df['time_stamp'].iloc[100]\n",
    "time_end = time_start + 60 * 60\n",
    "df = df[(df['time_stamp'] > time_start) & (df['time_stamp'] < time_end)]"
   ]
  },
  {
   "cell_type": "code",
   "execution_count": 282,
   "metadata": {},
   "outputs": [
    {
     "name": "stdout",
     "output_type": "stream",
     "text": [
      "264.21173473808756\n",
      "[Time_Start : 2018-11-25 23:48:35] \t $16.5 \t [Theatre District] to [North End] \n",
      "[Time_Start : 2018-11-25 23:55:33] \t $16.0 \t [North End] to [North Station] \n",
      "[Time_Start : 2018-11-26 00:02:32] \t $15.0 \t [North Station] to [South Station] \n",
      "[Time_Start : 2018-11-26 00:09:30] \t $31.5 \t [South Station] to [Beacon Hill] \n",
      "[Time_Start : 2018-11-26 00:16:28] \t $9.5 \t [Beacon Hill] to [Boston University] \n",
      "[Time_Start : 2018-11-26 00:23:26] \t $7.0 \t [Boston University] to [Back Bay] \n",
      "[Time_Start : 2018-11-26 00:30:24] \t $23.5 \t [Back Bay] to [North End] \n",
      "[Time_Start : 2018-11-26 00:37:22] \t $30.0 \t [North End] to [Theatre District] \n",
      "Total Price $ 149.0\n",
      "Total Earned $ 59.60\n"
     ]
    }
   ],
   "source": [
    "running_price = 0\n",
    "duration = 0\n",
    "wait_noise = np.random.normal(0, 1) * 60 * 3 + 5 * 60\n",
    "print(wait_noise)\n",
    "\n",
    "time_start = df['time_stamp'].iloc[100]\n",
    "\n",
    "source = \"Haymarket Square\"\n",
    "drives = df.copy()\n",
    "\n",
    "while(len(drives) > 0):\n",
    "    running_price += drives['price'].iloc[0]\n",
    "    duration = df['duration'].iloc[0]\n",
    "    \n",
    "    #start time has noise\n",
    "    time_start = time_start + wait_noise + duration\n",
    "    \n",
    "    print(\"[Time_Start : %s] \\t $%s \\t [%s] to [%s] \" %(str(datetime.fromtimestamp(time_start)).split(\".\")[0], \n",
    "                                                drives['price'].iloc[0],\n",
    "                                                drives['source'].iloc[0], \n",
    "                                                drives['destination'].iloc[0] \n",
    "                                                ))\n",
    "    \n",
    "    # the next source is the current drive's destination\n",
    "    source = drives['destination'].iloc[0]\n",
    "    drives = df[(df['time_stamp'] > time_start) & (df['source'] == source)].reset_index(drop= True)\n",
    "    \n",
    "print(\"Total Price $\", running_price)\n",
    "print(\"Total Earned $ %.2f\" % (running_price * 0.4))\n",
    "\n",
    "    \n"
   ]
  },
  {
   "cell_type": "code",
   "execution_count": 281,
   "metadata": {},
   "outputs": [
    {
     "data": {
      "text/html": [
       "<div>\n",
       "<style scoped>\n",
       "    .dataframe tbody tr th:only-of-type {\n",
       "        vertical-align: middle;\n",
       "    }\n",
       "\n",
       "    .dataframe tbody tr th {\n",
       "        vertical-align: top;\n",
       "    }\n",
       "\n",
       "    .dataframe thead th {\n",
       "        text-align: right;\n",
       "    }\n",
       "</style>\n",
       "<table border=\"1\" class=\"dataframe\">\n",
       "  <thead>\n",
       "    <tr style=\"text-align: right;\">\n",
       "      <th></th>\n",
       "      <th>distance</th>\n",
       "      <th>cab_type</th>\n",
       "      <th>time_stamp</th>\n",
       "      <th>destination</th>\n",
       "      <th>source</th>\n",
       "      <th>price</th>\n",
       "      <th>surge_multiplier</th>\n",
       "      <th>id</th>\n",
       "      <th>product_id</th>\n",
       "      <th>name</th>\n",
       "      <th>duration</th>\n",
       "    </tr>\n",
       "  </thead>\n",
       "  <tbody>\n",
       "  </tbody>\n",
       "</table>\n",
       "</div>"
      ],
      "text/plain": [
       "Empty DataFrame\n",
       "Columns: [distance, cab_type, time_stamp, destination, source, price, surge_multiplier, id, product_id, name, duration]\n",
       "Index: []"
      ]
     },
     "execution_count": 281,
     "metadata": {},
     "output_type": "execute_result"
    }
   ],
   "source": [
    "drives"
   ]
  },
  {
   "cell_type": "code",
   "execution_count": 262,
   "metadata": {},
   "outputs": [
    {
     "data": {
      "text/plain": [
       "'2018-11-26 00:40:18'"
      ]
     },
     "execution_count": 262,
     "metadata": {},
     "output_type": "execute_result"
    }
   ],
   "source": [
    "str(datetime.fromtimestamp(time_start)).split(\".\")[0]"
   ]
  },
  {
   "cell_type": "code",
   "execution_count": 263,
   "metadata": {},
   "outputs": [
    {
     "data": {
      "text/plain": [
       "datetime.datetime(2018, 12, 17, 13, 26, 12)"
      ]
     },
     "execution_count": 263,
     "metadata": {},
     "output_type": "execute_result"
    }
   ],
   "source": [
    "datetime.fromtimestamp(int(ts/1000) + 60)"
   ]
  },
  {
   "cell_type": "code",
   "execution_count": 264,
   "metadata": {},
   "outputs": [
    {
     "data": {
      "text/plain": [
       "1545071112.138"
      ]
     },
     "execution_count": 264,
     "metadata": {},
     "output_type": "execute_result"
    }
   ],
   "source": [
    "ts/1000"
   ]
  },
  {
   "cell_type": "code",
   "execution_count": 62,
   "metadata": {},
   "outputs": [],
   "source": [
    "ts = df['time_stamp'][5]"
   ]
  }
 ],
 "metadata": {
  "kernelspec": {
   "display_name": "'Python Interactive'",
   "language": "python",
   "name": "42742699-c8e5-4e26-9fb4-8e2abe7a830e"
  },
  "language_info": {
   "codemirror_mode": {
    "name": "ipython",
    "version": 3
   },
   "file_extension": ".py",
   "mimetype": "text/x-python",
   "name": "python",
   "nbconvert_exporter": "python",
   "pygments_lexer": "ipython3",
   "version": "3.7.1"
  }
 },
 "nbformat": 4,
 "nbformat_minor": 2
}
