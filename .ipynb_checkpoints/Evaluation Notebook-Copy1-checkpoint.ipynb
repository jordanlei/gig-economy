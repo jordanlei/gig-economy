{
 "cells": [
  {
   "cell_type": "code",
   "execution_count": 1,
   "metadata": {},
   "outputs": [],
   "source": [
    "import matplotlib.pyplot as plt\n",
    "import numpy as np\n",
    "import pandas as pd\n",
    "import math\n",
    "import time\n",
    "from datetime import datetime\n",
    "from model import *"
   ]
  },
  {
   "cell_type": "code",
   "execution_count": 2,
   "metadata": {},
   "outputs": [],
   "source": [
    "df = pd.read_csv(\"boston_kaggle/cab_rides.csv\")\n",
    "df['time_stamp'] = df['time_stamp']/1000\n",
    "df = df.sort_values(by = \"time_stamp\")\n",
    "#make assumption that drivers are driving at 40 mph - get duration in seconds\n",
    "df['duration'] = df['distance'] / 10 * 60 * 60\n",
    "df = df.reset_index(drop=True)\n",
    "df = df.fillna(0)"
   ]
  },
  {
   "cell_type": "code",
   "execution_count": 3,
   "metadata": {},
   "outputs": [],
   "source": [
    "old_df = df.copy()"
   ]
  },
  {
   "cell_type": "code",
   "execution_count": 4,
   "metadata": {},
   "outputs": [
    {
     "data": {
      "text/plain": [
       "Index(['distance', 'cab_type', 'time_stamp', 'destination', 'source', 'price',\n",
       "       'surge_multiplier', 'id', 'product_id', 'name', 'duration'],\n",
       "      dtype='object')"
      ]
     },
     "execution_count": 4,
     "metadata": {},
     "output_type": "execute_result"
    }
   ],
   "source": [
    "df.columns"
   ]
  },
  {
   "cell_type": "code",
   "execution_count": 5,
   "metadata": {},
   "outputs": [
    {
     "data": {
      "text/plain": [
       "{'Back Bay',\n",
       " 'Beacon Hill',\n",
       " 'Boston University',\n",
       " 'Fenway',\n",
       " 'Financial District',\n",
       " 'Haymarket Square',\n",
       " 'North End',\n",
       " 'North Station',\n",
       " 'Northeastern University',\n",
       " 'South Station',\n",
       " 'Theatre District',\n",
       " 'West End'}"
      ]
     },
     "execution_count": 5,
     "metadata": {},
     "output_type": "execute_result"
    }
   ],
   "source": [
    "set(df.destination)"
   ]
  },
  {
   "cell_type": "code",
   "execution_count": 6,
   "metadata": {},
   "outputs": [
    {
     "name": "stdout",
     "output_type": "stream",
     "text": [
      "        distance cab_type    time_stamp              destination  \\\n",
      "0           3.03     Lyft  1.543204e+09         Theatre District   \n",
      "1           1.57     Uber  1.543204e+09                North End   \n",
      "2           1.30     Uber  1.543204e+09         Theatre District   \n",
      "3           2.71     Uber  1.543204e+09                   Fenway   \n",
      "4           2.43     Lyft  1.543204e+09              Beacon Hill   \n",
      "5           2.71     Uber  1.543204e+09                   Fenway   \n",
      "6           2.71     Uber  1.543204e+09                   Fenway   \n",
      "7           2.19     Uber  1.543204e+09                North End   \n",
      "8           3.05     Uber  1.543204e+09                   Fenway   \n",
      "9           2.19     Uber  1.543204e+09                North End   \n",
      "10          2.19     Uber  1.543204e+09                North End   \n",
      "11          2.22     Lyft  1.543204e+09  Northeastern University   \n",
      "12          4.46     Lyft  1.543204e+09       Financial District   \n",
      "13          4.46     Lyft  1.543204e+09       Financial District   \n",
      "14          2.30     Lyft  1.543204e+09        Boston University   \n",
      "15          2.30     Lyft  1.543204e+09        Boston University   \n",
      "16          2.30     Lyft  1.543204e+09        Boston University   \n",
      "17          1.16     Uber  1.543204e+09         Theatre District   \n",
      "18          2.50     Uber  1.543204e+09              Beacon Hill   \n",
      "19          0.56     Uber  1.543204e+09         Haymarket Square   \n",
      "20          2.50     Uber  1.543204e+09              Beacon Hill   \n",
      "21          2.66     Uber  1.543204e+09                   Fenway   \n",
      "22          2.66     Uber  1.543204e+09                   Fenway   \n",
      "23          2.66     Uber  1.543204e+09                   Fenway   \n",
      "24          2.66     Uber  1.543204e+09                   Fenway   \n",
      "25          2.80     Uber  1.543204e+09        Boston University   \n",
      "26          2.66     Uber  1.543204e+09                   Fenway   \n",
      "27          2.66     Uber  1.543204e+09                   Fenway   \n",
      "28          1.23     Lyft  1.543204e+09                 West End   \n",
      "29          1.23     Lyft  1.543204e+09                 West End   \n",
      "...          ...      ...           ...                      ...   \n",
      "693041      2.30     Uber  1.545161e+09                 Back Bay   \n",
      "693042      2.30     Uber  1.545161e+09                 Back Bay   \n",
      "693043      4.55     Uber  1.545161e+09       Financial District   \n",
      "693044      1.44     Lyft  1.545161e+09                 Back Bay   \n",
      "693045      3.91     Uber  1.545161e+09       Financial District   \n",
      "693046      1.87     Lyft  1.545161e+09            South Station   \n",
      "693047      1.87     Lyft  1.545161e+09            South Station   \n",
      "693048      1.50     Uber  1.545161e+09                 Back Bay   \n",
      "693049      1.50     Uber  1.545161e+09                 Back Bay   \n",
      "693050      1.50     Uber  1.545161e+09                 Back Bay   \n",
      "693051      1.50     Uber  1.545161e+09                 Back Bay   \n",
      "693052      1.16     Uber  1.545161e+09                 West End   \n",
      "693053      1.16     Uber  1.545161e+09                 West End   \n",
      "693054      2.66     Uber  1.545161e+09                   Fenway   \n",
      "693055      1.16     Uber  1.545161e+09                 West End   \n",
      "693056      2.66     Uber  1.545161e+09                   Fenway   \n",
      "693057      0.46     Lyft  1.545161e+09            South Station   \n",
      "693058      2.66     Uber  1.545161e+09                   Fenway   \n",
      "693059      2.66     Uber  1.545161e+09         Theatre District   \n",
      "693060      2.66     Uber  1.545161e+09         Theatre District   \n",
      "693061      2.66     Uber  1.545161e+09         Theatre District   \n",
      "693062      2.80     Lyft  1.545161e+09                 West End   \n",
      "693063      2.66     Uber  1.545161e+09         Theatre District   \n",
      "693064      2.66     Uber  1.545161e+09         Theatre District   \n",
      "693065      2.40     Lyft  1.545161e+09              Beacon Hill   \n",
      "693066      2.40     Lyft  1.545161e+09              Beacon Hill   \n",
      "693067      2.48     Uber  1.545161e+09            South Station   \n",
      "693068      2.40     Lyft  1.545161e+09              Beacon Hill   \n",
      "693069      2.40     Lyft  1.545161e+09              Beacon Hill   \n",
      "693070      2.40     Lyft  1.545161e+09              Beacon Hill   \n",
      "\n",
      "                         source  price  surge_multiplier  \\\n",
      "0             Boston University   34.0              1.00   \n",
      "1              Theatre District    0.0              1.00   \n",
      "2                 South Station   18.5              1.00   \n",
      "3              Theatre District   19.5              1.00   \n",
      "4       Northeastern University   10.5              1.00   \n",
      "5              Theatre District   32.0              1.00   \n",
      "6              Theatre District    0.0              1.00   \n",
      "7                   Beacon Hill    8.0              1.00   \n",
      "8                 North Station   10.5              1.00   \n",
      "9                   Beacon Hill   13.0              1.00   \n",
      "10                  Beacon Hill   17.5              1.00   \n",
      "11             Theatre District    7.0              1.00   \n",
      "12            Boston University   47.5              1.75   \n",
      "13            Boston University   62.5              1.75   \n",
      "14                  Beacon Hill   16.5              1.00   \n",
      "15                  Beacon Hill    3.5              1.00   \n",
      "16                  Beacon Hill    9.0              1.00   \n",
      "17             Haymarket Square    0.0              1.00   \n",
      "18                South Station   28.5              1.00   \n",
      "19                North Station    7.0              1.00   \n",
      "20                South Station    0.0              1.00   \n",
      "21             Theatre District   16.0              1.00   \n",
      "22             Theatre District   10.0              1.00   \n",
      "23             Theatre District    0.0              1.00   \n",
      "24             Theatre District   20.5              1.00   \n",
      "25                     West End   10.0              1.00   \n",
      "26             Theatre District   27.5              1.00   \n",
      "27             Theatre District    9.5              1.00   \n",
      "28                    North End    5.0              1.00   \n",
      "29                    North End    7.0              1.00   \n",
      "...                         ...    ...               ...   \n",
      "693041         Haymarket Square   33.0              1.00   \n",
      "693042         Haymarket Square   11.5              1.00   \n",
      "693043  Northeastern University   30.5              1.00   \n",
      "693044                   Fenway    7.0              1.00   \n",
      "693045        Boston University   12.0              1.00   \n",
      "693046                 Back Bay   19.5              1.00   \n",
      "693047                 Back Bay   16.5              1.00   \n",
      "693048                   Fenway    0.0              1.00   \n",
      "693049                   Fenway    7.0              1.00   \n",
      "693050                   Fenway   12.0              1.00   \n",
      "693051                   Fenway    7.0              1.00   \n",
      "693052                North End   27.5              1.00   \n",
      "693053                North End    0.0              1.00   \n",
      "693054         Theatre District    9.5              1.00   \n",
      "693055                North End   11.5              1.00   \n",
      "693056         Theatre District    0.0              1.00   \n",
      "693057       Financial District    3.0              1.00   \n",
      "693058         Theatre District    9.0              1.00   \n",
      "693059                   Fenway   33.5              1.00   \n",
      "693060                   Fenway   11.5              1.00   \n",
      "693061                   Fenway   11.5              1.00   \n",
      "693062  Northeastern University   26.0              1.00   \n",
      "693063                   Fenway   11.0              1.00   \n",
      "693064                   Fenway    0.0              1.00   \n",
      "693065  Northeastern University    7.0              1.00   \n",
      "693066  Northeastern University   10.5              1.00   \n",
      "693067              Beacon Hill   14.0              1.00   \n",
      "693068  Northeastern University   16.5              1.00   \n",
      "693069  Northeastern University   16.5              1.00   \n",
      "693070  Northeastern University   32.5              1.00   \n",
      "\n",
      "                                          id  \\\n",
      "0       ef4771c2-c88d-4730-aaf7-a95751e9d27e   \n",
      "1       9962f244-8fce-4ae9-a583-139d5d7522e1   \n",
      "2       00ea74ea-2c49-416c-bfc5-f7877025f6eb   \n",
      "3       8682f9bf-5cc0-4dfc-b8fe-4e22070d1684   \n",
      "4       edfc7f44-97e1-48cd-930c-e4fe20e88ac8   \n",
      "5       6172077a-22de-481b-aae2-b5763c87a6c4   \n",
      "6       2ee597c2-b685-450e-b3a2-2df42fb18d49   \n",
      "7       bb3f969d-3190-4bb8-9a84-dff2deba0a98   \n",
      "8       f67b0a6b-08f9-43bb-b47d-efad7310d4c7   \n",
      "9       cec0651f-2280-48ac-86bf-cb0152cada9e   \n",
      "10      90e22612-d1c7-47c2-af54-2a2240109889   \n",
      "11      9f82af6e-e67f-452a-8d63-f860cb7ff277   \n",
      "12      3b5af7f6-40ba-42f2-a218-971dcba4f33e   \n",
      "13      1178f52c-9bd4-4b28-a03a-d94e68bfafa3   \n",
      "14      f3f35cea-9a3f-4534-930d-da42e7610f77   \n",
      "15      d9852684-4e38-494c-ad6d-d8090e857ba9   \n",
      "16      d3d168df-a1b6-4de3-b1a1-7d1fb464bd41   \n",
      "17      63fbb593-95ba-4b74-88d1-e3eb0d99fe33   \n",
      "18      75ae9f8d-8fb4-4508-a356-a8abb85fb9d7   \n",
      "19      a7b50600-c6c5-4e6c-bea9-4487344196d4   \n",
      "20      68c01519-3da8-4f84-b113-48cf6d1441db   \n",
      "21      99f3cf40-809b-4962-9d9e-acaea3afc9d6   \n",
      "22      3aa19022-d060-4b43-8804-b31a9b5e23ab   \n",
      "23      6efc3adf-ed3b-4301-8a17-057170d89761   \n",
      "24      6a0c20d8-1964-4ad9-9595-9517174aae79   \n",
      "25      71fff528-8d60-4d06-abc0-e36871db784b   \n",
      "26      b5805509-bd76-49f9-a288-6cc048839fa1   \n",
      "27      429e66a4-6fd7-4adc-9bf9-61be42d9e53f   \n",
      "28      89f35ef7-7129-483d-b3e6-d89afdf6946d   \n",
      "29      4aa68a5d-abc0-4fdf-a47f-0003617afbae   \n",
      "...                                      ...   \n",
      "693041  98a8f536-3877-4353-97b8-0207a1bf9c83   \n",
      "693042  b73e5fd8-9f99-4595-9976-654be26a76c8   \n",
      "693043  9d29a29d-4d8f-44c4-b400-621b4f33301b   \n",
      "693044  355fd05f-36b0-4b1f-b7dd-1e27e37046d9   \n",
      "693045  7273d46d-3270-43ef-9fbc-c218f45c3496   \n",
      "693046  3ed61fe7-b8cd-4e38-b476-7310d2921053   \n",
      "693047  03bfd169-4861-49e8-961e-11445dc337cf   \n",
      "693048  eff602f0-ff8e-4ef1-b320-ae402713852d   \n",
      "693049  44ba18c3-07aa-432f-acfe-01ae0b2cb59e   \n",
      "693050  252a31fd-0bdf-4d8e-9849-a5b87ff7b0f7   \n",
      "693051  1ae16837-2581-4b81-bad4-3b6fd2315fe8   \n",
      "693052  fcd9e3c6-ea4b-4456-ba81-0e806fe21cc5   \n",
      "693053  fc22634a-9ea6-4ca2-9427-4a04527407c6   \n",
      "693054  dbbb7ed1-e054-4c52-a222-c7ad7024ca9f   \n",
      "693055  b1cf133f-627a-45ee-aa25-0ffc94b9e6c6   \n",
      "693056  a81fbe76-147d-4116-ac41-0d197e1c0ade   \n",
      "693057  e0497e3a-3ddc-4ee9-aeec-0a539315d42b   \n",
      "693058  fe6df7f1-daef-4bf7-b90a-ff31c4281b60   \n",
      "693059  20caa061-2ded-49f8-882b-1e7eae6285ff   \n",
      "693060  4e04bf74-ba6f-4737-ad65-d435ee91b0b0   \n",
      "693061  3cf33815-0e81-436e-9a54-d4f78a2ce08a   \n",
      "693062  4175e5aa-04e3-43a9-a7a5-e460b08091be   \n",
      "693063  55d10c8f-a6e5-477d-8aa4-b1430407dd0e   \n",
      "693064  91313e02-5248-443a-80a3-8a819bd154be   \n",
      "693065  24712695-5b52-4886-955f-39c4bcd7c200   \n",
      "693066  12b81ef2-422b-4a39-9ef7-701c0f197cea   \n",
      "693067  e7ff1618-2d8b-4d13-a798-593858064a9e   \n",
      "693068  11379a6c-1477-4501-ab22-d3a2165107d3   \n",
      "693069  b6710feb-4586-4c61-a2cf-cd4025ae8587   \n",
      "693070  a67a3e6e-7e21-4199-af07-b5532b125b67   \n",
      "\n",
      "                                  product_id          name  duration  \n",
      "0                                lyft_luxsuv  Lux Black XL    1090.8  \n",
      "1       8cf7e821-f0d3-49c6-8eba-e679c0ebcf6a          Taxi     565.2  \n",
      "2       6c84fd89-3f11-4782-9b50-97c468b19529         Black     468.0  \n",
      "3       55c66225-fbe7-4fd5-9072-eab1ece5e23e         UberX     975.6  \n",
      "4                                       lyft          Lyft     874.8  \n",
      "5       6f72dfc5-27f1-42e8-84db-ccc7a75f6969        UberXL     975.6  \n",
      "6       8cf7e821-f0d3-49c6-8eba-e679c0ebcf6a          Taxi     975.6  \n",
      "7       55c66225-fbe7-4fd5-9072-eab1ece5e23e         UberX     788.4  \n",
      "8       9a0e7b09-b92b-4c41-9779-2ad22b4d779d           WAV    1098.0  \n",
      "9       6f72dfc5-27f1-42e8-84db-ccc7a75f6969        UberXL     788.4  \n",
      "10      6c84fd89-3f11-4782-9b50-97c468b19529         Black     788.4  \n",
      "11                                 lyft_line        Shared     799.2  \n",
      "12                              lyft_premier           Lux    1605.6  \n",
      "13                                  lyft_lux     Lux Black    1605.6  \n",
      "14                              lyft_premier           Lux     828.0  \n",
      "15                                 lyft_line        Shared     828.0  \n",
      "16                                      lyft          Lyft     828.0  \n",
      "17      8cf7e821-f0d3-49c6-8eba-e679c0ebcf6a          Taxi     417.6  \n",
      "18      6d318bcc-22a3-4af6-bddd-b409bfce1546     Black SUV     900.0  \n",
      "19      55c66225-fbe7-4fd5-9072-eab1ece5e23e         UberX     201.6  \n",
      "20      8cf7e821-f0d3-49c6-8eba-e679c0ebcf6a          Taxi     900.0  \n",
      "21      6f72dfc5-27f1-42e8-84db-ccc7a75f6969        UberXL     957.6  \n",
      "22      997acbb5-e102-41e1-b155-9df7de0a73f2      UberPool     957.6  \n",
      "23      8cf7e821-f0d3-49c6-8eba-e679c0ebcf6a          Taxi     957.6  \n",
      "24      6c84fd89-3f11-4782-9b50-97c468b19529         Black     957.6  \n",
      "25      997acbb5-e102-41e1-b155-9df7de0a73f2      UberPool    1008.0  \n",
      "26      6d318bcc-22a3-4af6-bddd-b409bfce1546     Black SUV     957.6  \n",
      "27      9a0e7b09-b92b-4c41-9779-2ad22b4d779d           WAV     957.6  \n",
      "28                                 lyft_line        Shared     442.8  \n",
      "29                                      lyft          Lyft     442.8  \n",
      "...                                      ...           ...       ...  \n",
      "693041  6d318bcc-22a3-4af6-bddd-b409bfce1546     Black SUV     828.0  \n",
      "693042  9a0e7b09-b92b-4c41-9779-2ad22b4d779d           WAV     828.0  \n",
      "693043  6c84fd89-3f11-4782-9b50-97c468b19529         Black    1638.0  \n",
      "693044                                  lyft          Lyft     518.4  \n",
      "693045  997acbb5-e102-41e1-b155-9df7de0a73f2      UberPool    1407.6  \n",
      "693046                          lyft_premier           Lux     673.2  \n",
      "693047                             lyft_plus       Lyft XL     673.2  \n",
      "693048  8cf7e821-f0d3-49c6-8eba-e679c0ebcf6a          Taxi     540.0  \n",
      "693049  9a0e7b09-b92b-4c41-9779-2ad22b4d779d           WAV     540.0  \n",
      "693050  6f72dfc5-27f1-42e8-84db-ccc7a75f6969        UberXL     540.0  \n",
      "693051  55c66225-fbe7-4fd5-9072-eab1ece5e23e         UberX     540.0  \n",
      "693052  6d318bcc-22a3-4af6-bddd-b409bfce1546     Black SUV     417.6  \n",
      "693053  8cf7e821-f0d3-49c6-8eba-e679c0ebcf6a          Taxi     417.6  \n",
      "693054  55c66225-fbe7-4fd5-9072-eab1ece5e23e         UberX     957.6  \n",
      "693055  6f72dfc5-27f1-42e8-84db-ccc7a75f6969        UberXL     417.6  \n",
      "693056  8cf7e821-f0d3-49c6-8eba-e679c0ebcf6a          Taxi     957.6  \n",
      "693057                             lyft_line        Shared     165.6  \n",
      "693058  997acbb5-e102-41e1-b155-9df7de0a73f2      UberPool     957.6  \n",
      "693059  6d318bcc-22a3-4af6-bddd-b409bfce1546     Black SUV     957.6  \n",
      "693060  9a0e7b09-b92b-4c41-9779-2ad22b4d779d           WAV     957.6  \n",
      "693061  55c66225-fbe7-4fd5-9072-eab1ece5e23e         UberX     957.6  \n",
      "693062                              lyft_lux     Lux Black    1008.0  \n",
      "693063  997acbb5-e102-41e1-b155-9df7de0a73f2      UberPool     957.6  \n",
      "693064  8cf7e821-f0d3-49c6-8eba-e679c0ebcf6a          Taxi     957.6  \n",
      "693065                             lyft_line        Shared     864.0  \n",
      "693066                                  lyft          Lyft     864.0  \n",
      "693067  6f72dfc5-27f1-42e8-84db-ccc7a75f6969        UberXL     892.8  \n",
      "693068                          lyft_premier           Lux     864.0  \n",
      "693069                             lyft_plus       Lyft XL     864.0  \n",
      "693070                           lyft_luxsuv  Lux Black XL     864.0  \n",
      "\n",
      "[693071 rows x 11 columns]\n"
     ]
    }
   ],
   "source": [
    "print(df)"
   ]
  },
  {
   "cell_type": "code",
   "execution_count": 7,
   "metadata": {},
   "outputs": [
    {
     "name": "stdout",
     "output_type": "stream",
     "text": [
      "\t[Time_Start : 2018-11-25 23:44:55] $7.5 [6.60 (8.48 wait)] [Back Bay] to [Northeastern University]\n",
      "\t[Time_Start : 2018-11-26 00:00:00] $23.0 [19.32 (11.47 wait)] [Northeastern University] to [North Station]\n",
      "\t[Time_Start : 2018-11-26 00:30:47] $13.5 [12.72 (14.82 wait)] [North Station] to [South Station]\n",
      "\tPrice $44.00\n",
      "\tEarned $13.20\n"
     ]
    },
    {
     "data": {
      "text/plain": [
       "(44.0, 13.2)"
      ]
     },
     "execution_count": 7,
     "metadata": {},
     "output_type": "execute_result"
    }
   ],
   "source": [
    "def simulate_drive(df, time_start, time_end, source = \"Haymarket Square\", verbose = True):\n",
    "    wait_noise = max(0, np.random.normal(0, 1) * 60 * 3 + 5 * 60)\n",
    "    time_start = time_start + wait_noise\n",
    "    \n",
    "    #total price of all the rides\n",
    "    running_price = 0\n",
    "    \n",
    "    #duration of the ride\n",
    "    duration = 0\n",
    "    \n",
    "    df = df[(df['time_stamp'] > time_start) & (df['time_stamp'] < time_end)]\n",
    "    drives = df[(df['time_stamp'] > time_start) & (df['source'] == source)].reset_index(drop= True)\n",
    "\n",
    "    wait_noise = 0\n",
    "    \n",
    "    while(len(drives) > 0): \n",
    "        wait_noise = max(0, np.random.normal(0, 1) * 60 * 3 + 10 * 60)\n",
    "        if verbose: \n",
    "            print(\"\\t[Time_Start : %s] $%s [%.2f (%.2f wait)] [%s] to [%s]\" %(str(datetime.fromtimestamp(time_start)).split(\".\")[0],\n",
    "                                                        drives['price'].iloc[0],\n",
    "                                                        drives['duration'].iloc[0]/60,\n",
    "                                                        wait_noise/60, \n",
    "                                                        drives['source'].iloc[0], \n",
    "                                                        drives['destination'].iloc[0] \n",
    "                                                        ))\n",
    "        running_price += drives['price'].iloc[0]\n",
    "        duration = drives['duration'].iloc[0] \n",
    "\n",
    "        \n",
    "        #note - everything below is after the trip has been taken already\n",
    "\n",
    "        \n",
    "        #increment time start by the duration of the trip + the noise in waiting for the next trip\n",
    "        time_start = time_start + duration + wait_noise\n",
    "\n",
    "        # the next source is the current drive's destination\n",
    "        source = drives['destination'].iloc[0]\n",
    "        # drives is based on a slice of the dataframe\n",
    "        drives = df[(df['time_stamp'] > time_start) & (df['source'] == source)].reset_index(drop= True)\n",
    "\n",
    "    if verbose: \n",
    "        print(\"\\tPrice $%.2f\" % running_price)\n",
    "        print(\"\\tEarned $%.2f\" % (running_price * 0.3))\n",
    "    earnings = running_price * 0.3\n",
    "    return running_price, earnings\n",
    "\n",
    "time_start = df['time_stamp'].iloc[101]\n",
    "time_end = time_start + 60 * 60    \n",
    "simulate_drive(df, time_start, time_end, \"Back Bay\")\n"
   ]
  },
  {
   "cell_type": "code",
   "execution_count": 8,
   "metadata": {},
   "outputs": [],
   "source": [
    "CALENDAR_SIZE = (24, 7) #set calendar size to 24 by 7 \n",
    "\n",
    "def generate_calendar_matrix(arr = None): \n",
    "    '''\n",
    "    Generates a calendar matrix based off\n",
    "    an optional numpy input array. If no arr\n",
    "    is inputted, the default is zero\n",
    "    '''\n",
    "    if arr is None:\n",
    "        arr = np.zeros(CALENDAR_SIZE)\n",
    "    df = pd.DataFrame(arr, index = range(CALENDAR_SIZE[0]), columns= [\"mon\", \"tues\", \"wed\", \"thur\", \"fri\", \"sat\", \"sun\"])\n",
    "    return df\n",
    "\n",
    "def to_datestring(s): \n",
    "    return str(datetime.fromtimestamp(s)).split(\".\")[0]"
   ]
  },
  {
   "cell_type": "code",
   "execution_count": 9,
   "metadata": {},
   "outputs": [
    {
     "name": "stdout",
     "output_type": "stream",
     "text": [
      "[[0 1 1 0 1 1 0]\n",
      " [1 0 0 0 0 0 0]\n",
      " [0 0 1 1 1 0 1]\n",
      " [0 0 0 0 0 0 0]\n",
      " [0 0 0 0 0 0 0]\n",
      " [1 1 0 0 0 0 0]\n",
      " [0 0 1 0 0 0 0]\n",
      " [0 0 1 0 0 0 1]\n",
      " [0 0 0 0 1 0 0]\n",
      " [1 0 0 0 1 0 1]\n",
      " [0 1 1 0 0 0 1]\n",
      " [0 0 0 0 0 1 0]\n",
      " [1 0 0 0 1 0 1]\n",
      " [0 0 0 1 0 0 0]\n",
      " [0 0 0 1 1 0 0]\n",
      " [0 0 0 1 0 0 0]\n",
      " [0 0 1 0 0 0 0]\n",
      " [0 1 1 0 0 0 1]\n",
      " [0 0 0 0 0 1 0]\n",
      " [1 0 1 0 0 0 0]\n",
      " [1 1 0 0 0 0 0]\n",
      " [0 0 0 1 0 1 0]\n",
      " [1 0 0 0 0 1 0]\n",
      " [0 0 0 0 0 0 0]]\n",
      "[1.5432120e+09 1.5432264e+09 1.5432408e+09 1.5432516e+09 1.5432768e+09\n",
      " 1.5432876e+09 1.5432948e+09 1.5433128e+09 1.5433308e+09 1.5433560e+09\n",
      " 1.5433668e+09 1.5433812e+09 1.5433884e+09 1.5434028e+09 1.5434172e+09\n",
      " 1.5434388e+09 1.5434496e+09 1.5434748e+09 1.5435144e+09 1.5435432e+09\n",
      " 1.5435540e+09 1.5435612e+09 1.5435828e+09 1.5435972e+09 1.5436044e+09\n",
      " 1.5436404e+09 1.5436800e+09 1.5437052e+09 1.5437160e+09 1.5437340e+09\n",
      " 1.5437520e+09 1.5437592e+09 1.5437700e+09 1.5437880e+09] [1.5432156e+09 1.5432300e+09 1.5432444e+09 1.5432552e+09 1.5432840e+09\n",
      " 1.5432912e+09 1.5432984e+09 1.5433164e+09 1.5433344e+09 1.5433596e+09\n",
      " 1.5433704e+09 1.5433848e+09 1.5433920e+09 1.5434100e+09 1.5434208e+09\n",
      " 1.5434460e+09 1.5434532e+09 1.5434784e+09 1.5435252e+09 1.5435468e+09\n",
      " 1.5435576e+09 1.5435648e+09 1.5435900e+09 1.5436008e+09 1.5436080e+09\n",
      " 1.5436440e+09 1.5436836e+09 1.5437088e+09 1.5437232e+09 1.5437376e+09\n",
      " 1.5437556e+09 1.5437664e+09 1.5437736e+09 1.5437916e+09]\n"
     ]
    }
   ],
   "source": [
    "cdf = (np.random.random(CALENDAR_SIZE) > 0.75).astype(int)\n",
    "\n",
    "\n",
    "def get_start_end_times(cmatrix, base_date = '11/26/18'): \n",
    "    orig = np.zeros((CALENDAR_SIZE[0] + 1, CALENDAR_SIZE[1]))\n",
    "    shift = np.zeros((CALENDAR_SIZE[0] + 1, CALENDAR_SIZE[1]))\n",
    "\n",
    "    orig[1:, :] = cmatrix\n",
    "    shift[:-1, :] = cmatrix\n",
    "\n",
    "    diff = shift - orig\n",
    "\n",
    "    start_times_bool = diff == 1\n",
    "    end_times_bool = diff == -1\n",
    "    \n",
    "    base_timestamp = datetime.timestamp(datetime.strptime((base_date), '%m/%d/%y'))\n",
    "    li = [[base_timestamp + hour*60*60 + day*24*60*60 for day in range(7)] for hour in range(25)]\n",
    "    #li = [[str(datetime.fromtimestamp(x)).split(\".\")[0] for x in y] for y in li]\n",
    "\n",
    "    date_arr = np.array(li)\n",
    "\n",
    "    start_times = date_arr[start_times_bool]\n",
    "    end_times = date_arr[end_times_bool]\n",
    "\n",
    "    start_times = np.sort(start_times)\n",
    "    end_times = np.sort(end_times)\n",
    "    \n",
    "    return start_times, end_times\n",
    "\n",
    "\n",
    "start_times, end_times = get_start_end_times(cdf)\n",
    "print(cdf)\n",
    "print(start_times, end_times)"
   ]
  },
  {
   "cell_type": "code",
   "execution_count": 10,
   "metadata": {},
   "outputs": [
    {
     "data": {
      "text/plain": [
       "42"
      ]
     },
     "execution_count": 10,
     "metadata": {},
     "output_type": "execute_result"
    }
   ],
   "source": [
    "cdf.sum().sum()"
   ]
  },
  {
   "cell_type": "code",
   "execution_count": 24,
   "metadata": {},
   "outputs": [],
   "source": [
    "def schedule_model(cmatrix, trials = 1, verbose = True): \n",
    "    start_times, end_times = get_start_end_times(cmatrix)\n",
    "    \n",
    "    earningslist = []\n",
    "    for i in range(trials): \n",
    "        running_price = 0\n",
    "        running_earnings = 0\n",
    "        for i in range(len(start_times)): \n",
    "            start = start_times[i]\n",
    "            end = end_times[i]\n",
    "            if verbose: \n",
    "                print(\"Ride %d of %d [%d%%] \\tStart: %s \\tEnd: %s\"%(i, len(start_times), 100 * i/len(start_times), to_datestring(start), to_datestring(end)))\n",
    "            price, earnings = simulate_drive(df, start, end, verbose = verbose)\n",
    "            running_price += price\n",
    "            running_earnings += earnings\n",
    "        \n",
    "        running_earnings = np.round(running_earnings, 2)\n",
    "        earningslist.append(running_earnings)\n",
    "    return earningslist    "
   ]
  },
  {
   "cell_type": "code",
   "execution_count": 36,
   "metadata": {
    "scrolled": true
   },
   "outputs": [
    {
     "name": "stdout",
     "output_type": "stream",
     "text": [
      "0 of 5000 [0%]\n",
      "100 of 5000 [2%]\n",
      "200 of 5000 [4%]\n",
      "300 of 5000 [6%]\n",
      "400 of 5000 [8%]\n",
      "500 of 5000 [10%]\n",
      "600 of 5000 [12%]\n",
      "700 of 5000 [14%]\n",
      "800 of 5000 [16%]\n",
      "900 of 5000 [18%]\n",
      "1000 of 5000 [20%]\n",
      "1100 of 5000 [22%]\n",
      "1200 of 5000 [24%]\n",
      "1300 of 5000 [26%]\n",
      "1400 of 5000 [28%]\n",
      "1500 of 5000 [30%]\n",
      "1600 of 5000 [32%]\n",
      "1700 of 5000 [34%]\n",
      "1800 of 5000 [36%]\n",
      "1900 of 5000 [38%]\n",
      "2000 of 5000 [40%]\n",
      "2100 of 5000 [42%]\n",
      "2200 of 5000 [44%]\n",
      "2300 of 5000 [46%]\n",
      "2400 of 5000 [48%]\n",
      "2500 of 5000 [50%]\n",
      "2600 of 5000 [52%]\n",
      "2700 of 5000 [54%]\n",
      "2800 of 5000 [56%]\n",
      "2900 of 5000 [58%]\n",
      "3000 of 5000 [60%]\n",
      "3100 of 5000 [62%]\n",
      "3200 of 5000 [64%]\n",
      "3300 of 5000 [66%]\n",
      "3400 of 5000 [68%]\n",
      "3500 of 5000 [70%]\n",
      "3600 of 5000 [72%]\n",
      "3700 of 5000 [74%]\n",
      "3800 of 5000 [76%]\n",
      "3900 of 5000 [78%]\n",
      "4000 of 5000 [80%]\n",
      "4100 of 5000 [82%]\n",
      "4200 of 5000 [84%]\n",
      "4300 of 5000 [86%]\n",
      "4400 of 5000 [88%]\n",
      "4500 of 5000 [90%]\n",
      "4600 of 5000 [92%]\n",
      "4700 of 5000 [94%]\n",
      "4800 of 5000 [96%]\n",
      "4900 of 5000 [98%]\n",
      "0 of 5000 [0%]\n",
      "100 of 5000 [2%]\n",
      "200 of 5000 [4%]\n",
      "300 of 5000 [6%]\n",
      "400 of 5000 [8%]\n",
      "500 of 5000 [10%]\n",
      "600 of 5000 [12%]\n",
      "700 of 5000 [14%]\n",
      "800 of 5000 [16%]\n",
      "900 of 5000 [18%]\n",
      "1000 of 5000 [20%]\n",
      "1100 of 5000 [22%]\n",
      "1200 of 5000 [24%]\n",
      "1300 of 5000 [26%]\n",
      "1400 of 5000 [28%]\n",
      "1500 of 5000 [30%]\n",
      "1600 of 5000 [32%]\n",
      "1700 of 5000 [34%]\n",
      "1800 of 5000 [36%]\n",
      "1900 of 5000 [38%]\n",
      "2000 of 5000 [40%]\n",
      "2100 of 5000 [42%]\n",
      "2200 of 5000 [44%]\n",
      "2300 of 5000 [46%]\n",
      "2400 of 5000 [48%]\n",
      "2500 of 5000 [50%]\n",
      "2600 of 5000 [52%]\n",
      "2700 of 5000 [54%]\n",
      "2800 of 5000 [56%]\n",
      "2900 of 5000 [58%]\n",
      "3000 of 5000 [60%]\n",
      "3100 of 5000 [62%]\n",
      "3200 of 5000 [64%]\n",
      "3300 of 5000 [66%]\n",
      "3400 of 5000 [68%]\n",
      "3500 of 5000 [70%]\n",
      "3600 of 5000 [72%]\n",
      "3700 of 5000 [74%]\n",
      "3800 of 5000 [76%]\n",
      "3900 of 5000 [78%]\n",
      "4000 of 5000 [80%]\n",
      "4100 of 5000 [82%]\n",
      "4200 of 5000 [84%]\n",
      "4300 of 5000 [86%]\n",
      "4400 of 5000 [88%]\n",
      "4500 of 5000 [90%]\n",
      "4600 of 5000 [92%]\n",
      "4700 of 5000 [94%]\n",
      "4800 of 5000 [96%]\n",
      "4900 of 5000 [98%]\n",
      "[327.45, 210.45, 282.15, 278.7, 203.4, 211.35, 224.85, 279.75, 296.1, 172.35, 219.6, 380.4, 203.1, 304.65, 195.6, 252.15, 304.65, 299.4, 265.05, 277.8, 290.4, 268.5, 295.05, 287.55, 291.3, 227.85, 244.65, 237.9, 214.2, 309.9, 175.8, 277.8, 235.2, 218.25, 233.1, 214.35, 288.6, 224.7, 245.4, 268.95, 276.9, 224.4, 302.1, 231.15, 253.65, 184.5, 246.45, 272.4, 204.9, 293.25, 258.45, 222.3, 250.35, 259.65, 336.3, 211.5, 258.9, 247.8, 252.3, 229.05, 283.65, 276.3, 326.55, 295.5, 279.45, 207.6, 319.35, 240.15, 202.65, 261.6, 174.15, 282.3, 212.1, 299.25, 239.25, 300.0, 224.7, 189.45, 234.75, 238.35, 328.2, 190.05, 324.3, 283.2, 228.6, 285.15, 264.6, 203.85, 277.65, 320.85, 195.0, 329.25, 204.6, 324.45, 295.2, 232.2, 247.8, 212.85, 229.5, 280.05, 325.05, 217.05, 196.8, 196.2, 285.9, 319.65, 310.8, 211.2, 224.4, 212.7, 302.7, 333.45, 267.0, 255.15, 346.05, 195.45, 314.7, 273.75, 271.2, 219.9, 252.9, 205.2, 295.35, 226.95, 334.2, 337.95, 298.5, 224.4, 218.25, 299.25, 264.45, 342.9, 275.4, 364.95, 238.65, 234.9, 292.2, 319.5, 209.7, 293.25, 355.95, 247.5, 233.55, 337.65, 295.2, 238.5, 216.6, 328.35, 322.8, 206.7, 300.6, 290.55, 228.15, 189.45, 334.95, 321.6, 272.85, 307.95, 225.3, 233.25, 300.9, 286.2, 278.7, 300.45, 225.9, 299.55, 183.9, 265.65, 287.85, 268.95, 314.55, 291.75, 291.3, 258.15, 277.8, 240.3, 273.9, 314.55, 254.55, 255.6, 243.15, 369.0, 324.15, 266.1, 261.15, 138.3, 231.6, 308.25, 130.05, 255.6, 241.8, 221.85, 340.5, 253.35, 267.75, 327.0, 218.25, 201.6, 304.35, 315.45, 322.2, 282.9, 264.9, 238.8, 306.9, 253.5, 292.65, 298.65, 337.95, 268.65, 351.75, 295.5, 196.35, 244.95, 312.3, 311.1, 256.5, 305.7, 295.95, 317.4, 227.4, 268.95, 304.65, 305.1, 375.75, 262.05, 212.85, 324.0, 190.35, 319.8, 212.7, 280.95, 312.9, 227.55, 312.75, 315.6, 198.45, 265.2, 308.85, 203.1, 228.45, 253.95, 228.15, 244.35, 213.75, 298.2, 206.55, 366.9, 304.5, 314.7, 191.4, 292.95, 330.0, 202.8, 300.15, 273.45, 291.3, 209.55, 221.7, 288.3, 228.45, 272.25, 281.4, 279.45, 216.3, 135.45, 326.1, 241.05, 272.25, 160.35, 226.05, 220.95, 233.85, 245.7, 266.55, 260.85, 260.7, 195.9, 213.6, 294.9, 253.5, 287.1, 209.55, 281.85, 315.9, 201.45, 330.9, 234.9, 208.65, 283.05, 232.35, 315.6, 252.3, 268.65, 284.1, 300.45, 310.5, 286.65, 246.0, 205.95, 253.35, 385.05, 180.15, 285.15, 297.9, 348.0, 281.1, 276.6, 299.7, 202.5, 268.35, 224.7, 378.3, 322.65, 232.95, 217.05, 245.1, 295.8, 299.1, 211.2, 361.8, 314.1, 324.15, 218.25, 197.1, 303.0, 307.05, 291.45, 323.55, 313.65, 273.9, 281.1, 322.8, 347.85, 255.6, 393.3, 248.7, 208.35, 311.55, 327.75, 235.95, 309.9, 308.7, 231.3, 306.15, 327.15, 321.9, 297.6, 261.3, 247.05, 271.35, 314.25, 304.05, 246.3, 201.45, 264.75, 251.25, 168.15, 405.6, 222.9, 280.95, 328.95, 243.0, 319.2, 334.95, 219.0, 259.65, 287.1, 320.25, 258.0, 281.7, 288.3, 243.0, 322.8, 214.8, 258.45, 260.7, 267.0, 198.6, 237.6, 331.8, 284.7, 336.15, 241.95, 358.5, 253.95, 262.8, 289.2, 229.5, 327.15, 291.6, 242.85, 216.75, 233.85, 220.5, 213.3, 280.05, 294.6, 313.65, 208.8, 297.9, 244.65, 280.05, 306.9, 233.85, 222.6, 338.4, 254.4, 281.85, 282.9, 237.3, 220.05, 243.15, 309.0, 325.05, 263.7, 301.5, 239.4, 192.6, 306.9, 297.0, 171.45, 217.95, 288.0, 309.3, 259.8, 300.0, 286.65, 284.55, 276.9, 286.35, 264.6, 232.65, 219.75, 245.7, 247.5, 311.1, 239.7, 326.85, 329.85, 318.15, 261.45, 211.95, 243.15, 284.55, 306.0, 261.15, 206.25, 247.8, 247.8, 331.65, 222.6, 267.3, 196.35, 234.9, 289.05, 211.35, 248.7, 157.35, 297.0, 267.15, 327.45, 318.75, 220.95, 304.5, 253.65, 278.25, 269.55, 287.7, 316.2, 230.85, 242.1, 265.35, 241.65, 259.65, 210.0, 325.2, 275.25, 312.9, 305.1, 297.45, 292.65, 260.4, 190.65, 283.65, 301.5, 315.6, 249.45, 292.35, 298.95, 358.2, 323.55, 269.1, 322.2, 189.15, 312.0, 229.65, 241.5, 270.9, 347.85, 273.15, 308.7, 290.25, 167.7, 263.7, 351.0, 320.85, 197.7, 328.95, 323.85, 223.95, 285.15, 234.0, 256.8, 274.8, 226.2, 311.55, 228.3, 234.3, 317.1, 293.7, 378.9, 216.15, 209.55, 288.45, 194.55, 211.35, 320.55, 210.9, 303.75, 280.35, 231.3, 273.45, 323.25, 260.25, 298.35, 175.95, 213.75, 205.2, 195.0, 214.65, 202.5, 297.75, 297.9, 302.4, 328.5, 261.15, 321.9, 202.8, 299.55, 249.75, 188.85, 303.75, 284.4, 285.75, 294.75, 337.05, 215.55, 236.55, 218.55, 222.45, 198.15, 266.1, 305.1, 229.5, 278.4, 327.0, 239.85, 252.75, 329.55, 256.65, 227.55, 310.5, 320.55, 300.0, 203.55, 274.8, 268.95, 343.2, 236.25, 299.25, 294.6, 302.1, 280.95, 216.45, 285.9, 197.25, 318.15, 222.3, 215.25, 222.75, 252.15, 235.05, 259.65, 245.7, 190.8, 268.2, 191.1, 271.2, 268.35, 321.15, 247.65, 307.65, 304.95, 277.95, 297.9, 281.4, 231.15, 208.5, 288.9, 264.45, 206.7, 292.8, 271.8, 240.6, 258.3, 223.95, 232.5, 177.45, 195.9, 288.75, 316.5, 182.85, 298.35, 363.6, 213.0, 289.8, 293.4, 249.9, 284.55, 309.3, 312.6, 245.1, 207.75, 221.4, 210.6, 194.25, 256.95, 189.15, 345.3, 190.05, 359.7, 360.45, 281.55, 227.55, 205.65, 247.2, 244.65, 242.7, 223.05, 256.2, 277.65, 278.4, 263.25, 238.5, 309.3, 292.65, 194.4, 300.9, 371.1, 215.55, 312.3, 196.8, 291.75, 239.4, 269.85, 170.7, 305.85, 194.7, 198.0, 192.9, 213.6, 259.95, 283.65, 295.35, 222.3, 324.3, 283.65, 241.8, 316.65, 260.1, 304.65, 290.55, 253.5, 294.3, 224.25, 234.9, 297.6, 236.85, 265.35, 189.9, 269.4, 324.6, 301.95, 265.2, 260.7, 190.8, 317.55, 381.45, 265.2, 262.65, 273.75, 222.6, 282.6, 222.75, 229.5, 284.55, 327.75, 289.8, 279.15, 246.15, 311.85, 352.5, 284.25, 262.65, 279.0, 315.75, 161.4, 216.3, 221.4, 312.9, 310.8, 316.8, 276.3, 251.55, 237.75, 295.35, 273.75, 212.7, 285.45, 314.4, 245.25, 226.95, 252.45, 302.4, 243.75, 326.4, 347.7, 202.8, 336.45, 226.35, 277.05, 284.55, 268.95, 268.8, 300.75, 236.7, 250.65, 228.9, 362.55, 224.7, 252.75, 284.25, 251.7, 310.05, 276.45, 238.35, 278.1, 243.6, 244.05, 285.45, 269.25, 212.85, 263.7, 152.1, 188.85, 237.45, 204.45, 237.9, 224.4, 238.35, 230.4, 274.35, 257.7, 286.95, 215.55, 284.7, 261.15, 199.65, 192.6, 321.45, 309.45, 289.95, 281.55, 237.0, 214.65, 159.75, 358.5, 297.0, 286.2, 286.05, 286.5, 301.95, 274.5, 198.9, 206.7, 239.1, 228.9, 310.2, 251.85, 277.05, 346.5, 310.35, 155.85, 269.25, 283.2, 175.95, 305.55, 277.5, 290.1, 257.7, 319.65, 320.85, 233.85, 280.35, 222.75, 325.35, 208.35, 309.9, 284.7, 338.55, 170.85, 345.45, 376.5, 214.95, 114.15, 255.9, 241.8, 231.0, 281.85, 202.35, 177.9, 258.3, 281.1, 270.75, 346.65, 284.7, 310.35, 249.45, 274.65, 198.15, 284.55, 308.55, 273.15, 341.7, 192.9, 342.15, 298.65, 231.9, 226.5, 318.3, 190.35, 283.65, 243.0, 284.85, 193.35, 285.0, 327.75, 316.8, 200.4, 286.2, 198.75, 173.25, 332.55, 252.0, 291.15, 270.6, 248.55, 241.5, 345.6, 285.6, 332.55, 319.65, 299.1, 174.9, 250.05, 237.9, 265.65, 213.75, 283.95, 297.75, 199.65, 313.05, 252.75, 291.6, 252.6, 239.55, 329.4, 220.95, 217.8, 301.65, 290.25, 218.7, 313.2, 330.9, 252.3, 204.9, 260.1, 206.85, 225.9, 249.6, 167.4, 323.55, 263.55, 345.75, 269.85, 125.25, 229.35, 233.4, 224.7, 176.25, 276.15, 265.5, 354.45, 321.6, 269.25, 303.6, 263.7, 297.45, 219.0, 238.2, 185.85, 313.05, 255.6, 248.85, 247.05, 288.15, 318.45, 184.2, 244.05, 209.85, 301.95, 239.7, 211.35, 231.3, 243.9, 324.0, 288.0, 280.05, 248.25, 234.15, 299.1, 372.75, 228.3, 206.4, 352.05, 252.45, 210.9, 273.75, 220.8, 254.4, 272.1, 352.35, 299.55, 316.05, 219.15, 200.85, 264.3, 363.75, 286.05, 201.15, 226.35, 251.25, 298.35, 289.2, 235.95, 266.85, 229.95, 305.55, 322.5, 219.6, 291.9, 308.25, 235.8, 234.6, 271.05, 318.45, 205.2, 286.5, 253.2, 238.35, 233.55, 249.3, 289.95, 321.3, 308.85, 305.25, 200.7, 213.0, 263.4, 194.4, 286.2, 303.0, 296.25, 250.95, 262.8, 255.15, 202.05, 201.3, 312.9, 296.25, 189.45, 229.95, 241.95, 318.3, 236.25, 318.75, 275.1, 306.6, 261.15, 289.35, 335.1, 279.0, 333.6, 237.3, 265.35, 280.65, 202.65, 229.35, 217.35, 358.2, 219.75, 436.95, 238.95, 173.25, 312.75, 239.7, 321.15, 317.4, 282.0, 290.85, 318.6, 295.65, 294.6, 302.1, 229.05, 226.65, 236.4, 212.55, 286.35, 206.55, 310.65, 240.75, 253.5, 304.05, 309.6, 340.95, 314.25, 175.05, 183.9, 259.05, 309.6, 256.65, 345.3, 245.4, 211.5, 209.4, 256.8, 279.45, 260.1, 226.8, 272.55, 230.85, 295.2, 363.0, 308.85, 220.65, 336.6, 302.4, 340.5, 226.5, 227.7, 295.35, 142.65, 328.8, 291.0, 254.1, 300.9, 254.55, 268.5, 262.5, 210.6, 201.75, 309.6, 298.5, 265.2, 261.0, 210.75, 253.35, 280.05, 307.8, 213.15, 193.95, 282.0, 307.5, 265.5, 200.55, 225.45, 384.15, 232.5, 193.2, 288.15, 315.6, 159.0, 270.45, 297.9, 282.75, 189.3, 260.7, 325.35, 204.75, 262.2, 303.75, 356.4, 319.95, 298.35, 294.6, 282.15, 275.55, 318.15, 232.65, 313.05, 228.0, 198.9, 187.35, 318.75, 183.15, 305.25, 190.35, 230.55, 253.5, 209.55, 217.8, 286.65, 216.3, 256.8, 325.5, 185.4, 204.0, 293.4, 260.4, 299.55, 303.0, 216.3, 299.4, 190.8, 206.7, 315.0, 188.55, 192.6, 245.7, 291.9, 177.6, 221.1, 247.8, 168.45, 308.85, 213.3, 307.5, 300.9, 243.9, 219.0, 216.6, 298.2, 306.75, 350.1, 339.15, 354.75, 246.9, 329.85, 369.9, 283.35, 297.3, 330.3, 156.9, 282.9, 300.45, 255.0, 327.15, 227.55, 308.4, 198.15, 248.7, 304.05, 204.9, 337.8, 153.3, 364.2, 290.7, 261.3, 315.75, 288.0, 209.25, 290.7, 195.3, 287.25, 173.25, 288.0, 289.8, 225.45, 308.1, 294.45, 311.55, 254.55, 281.25, 270.6, 169.95, 251.25, 292.05, 247.65, 291.45, 268.2, 262.2, 286.95, 187.2, 299.7, 261.15, 204.3, 201.75, 285.0, 297.75, 181.8, 317.1, 354.3, 248.55, 261.9, 219.0, 307.5, 268.2, 220.35, 315.0, 292.2, 329.1, 345.15, 266.85, 268.95, 368.25, 310.05, 228.15, 253.8, 195.75, 191.85, 148.65, 199.35, 228.9, 193.2, 262.05, 312.9, 342.9, 239.1, 229.2, 206.55, 332.85, 293.85, 314.55, 255.6, 283.95, 181.95, 277.35, 242.1, 326.4, 333.3, 290.4, 250.35, 212.25, 214.5, 258.0, 212.25, 283.05, 274.5, 330.45, 233.4, 202.2, 228.45, 228.15, 338.1, 306.3, 185.55, 173.4, 304.5, 254.7, 327.0, 211.35, 245.85, 240.45, 282.9, 347.85, 262.05, 302.85, 196.2, 310.2, 297.0, 312.0, 232.65, 303.0, 263.55, 246.15, 301.2, 274.95, 217.35, 158.1, 227.25, 292.05, 261.9, 289.2, 269.4, 241.35, 242.7, 269.1, 278.85, 249.45, 308.1, 215.85, 175.5, 205.8, 298.65, 253.8, 352.35, 344.7, 189.75, 234.3, 185.4, 227.25, 201.45, 333.45, 217.2, 231.45, 130.2, 167.1, 322.05, 312.6, 340.35, 261.6, 354.3, 199.2, 243.3, 312.6, 218.85, 321.9, 358.35, 334.8, 237.3, 275.25, 274.35, 249.9, 248.55, 201.3, 220.2, 288.15, 315.9, 298.2, 268.65, 309.75, 256.05, 190.35, 201.0, 232.35, 324.3, 268.05, 255.3, 333.0, 232.5, 235.05, 225.3, 238.8, 291.6, 281.85, 217.8, 205.5, 327.6, 282.45, 319.65, 214.65, 287.85, 321.0, 317.4, 325.2, 301.95, 241.95, 230.1, 223.35, 364.65, 232.8, 352.35, 224.7, 249.6, 381.45, 262.35, 340.5, 226.8, 247.8, 390.9, 265.05, 214.05, 250.8, 318.6, 203.25, 302.85, 309.0, 311.7, 310.5, 263.1, 193.2, 263.4, 322.05, 333.45, 336.15, 272.85, 309.0, 212.7, 254.7, 233.4, 184.8, 271.95, 246.6, 191.4, 271.65, 249.6, 245.55, 312.75, 289.35, 336.45, 295.5, 311.1, 252.75, 219.3, 217.65, 263.7, 296.25, 246.3, 308.4, 316.2, 296.25, 277.65, 372.75, 255.15, 271.8, 230.85, 303.15, 260.7, 377.25, 260.25, 300.6, 292.5, 297.3, 275.85, 263.1, 192.45, 213.0, 293.7, 265.8, 300.45, 275.25, 313.05, 217.95, 271.95, 214.35, 366.9, 279.45, 352.35, 240.9, 246.6, 296.55, 340.05, 285.75, 225.3, 282.75, 330.75, 327.75, 267.75, 252.45, 207.15, 211.65, 220.5, 216.9, 186.3, 291.0, 241.05, 268.2, 298.65, 310.65, 249.15, 212.4, 201.0, 189.45, 227.55, 209.7, 218.4, 305.7, 268.5, 221.55, 185.25, 261.75, 256.05, 308.4, 366.45, 261.75, 264.3, 270.9, 221.85, 304.8, 310.35, 203.55, 294.0, 320.55, 303.3, 232.65, 244.35, 190.95, 197.55, 338.4, 259.2, 315.3, 198.75, 284.1, 299.85, 295.65, 198.45, 259.05, 214.2, 200.4, 285.3, 200.55, 294.15, 165.3, 303.6, 339.0, 217.05, 241.2, 251.25, 259.2, 223.8, 330.75, 296.7, 223.5, 250.95, 247.5, 309.0, 257.4, 280.05, 321.15, 174.0, 222.45, 255.75, 184.95, 238.8, 333.0, 252.0, 250.2, 235.5, 248.4, 229.95, 308.55, 185.85, 285.45, 304.5, 219.15, 255.9, 281.4, 202.8, 244.65, 295.65, 249.45, 218.85, 253.35, 235.05, 252.45, 305.55, 304.65, 208.8, 307.95, 264.15, 261.3, 297.45, 202.8, 211.8, 344.1, 309.15, 302.4, 279.9, 250.8, 284.7, 306.15, 360.45, 227.55, 266.1, 269.7, 229.8, 308.1, 240.0, 338.55, 247.8, 293.55, 200.1, 305.1, 247.8, 284.85, 194.85, 316.8, 224.55, 290.85, 272.25, 327.3, 307.2, 225.15, 213.45, 301.05, 239.25, 277.65, 222.45, 394.65, 286.35, 307.65, 309.45, 258.45, 201.6, 258.0, 290.25, 236.55, 189.45, 296.1, 308.55, 349.65, 295.5, 235.95, 345.9, 322.95, 251.55, 343.5, 244.5, 271.35, 259.8, 210.9, 225.3, 344.1, 320.1, 209.25, 210.45, 249.9, 337.2, 253.65, 240.15, 321.75, 198.3, 258.0, 327.75, 259.5, 265.65, 250.2, 200.55, 254.4, 303.0, 240.3, 248.55, 386.25, 208.8, 294.9, 243.15, 229.65, 224.85, 379.2, 226.2, 282.75, 232.5, 312.0, 310.2, 300.9, 213.75, 261.9, 234.0, 303.45, 352.8, 246.15, 248.55, 258.6, 236.55, 312.0, 250.05, 277.35, 306.45, 371.25, 283.2, 319.65, 298.95, 242.4, 322.8, 384.45, 243.75, 235.5, 289.35, 232.95, 314.25, 204.9, 284.25, 204.45, 307.2, 243.15, 209.7, 317.85, 293.4, 336.9, 314.4, 201.6, 232.5, 293.85, 325.05, 201.15, 270.6, 306.45, 271.2, 276.9, 307.2, 223.05, 329.4, 344.4, 205.8, 262.65, 237.6, 212.4, 294.6, 317.55, 331.8, 308.1, 219.0, 198.0, 304.65, 225.45, 287.4, 318.15, 340.65, 220.5, 282.45, 238.95, 263.1, 276.3, 238.2, 238.35, 225.45, 240.3, 284.85, 181.35, 215.25, 289.95, 285.45, 267.3, 237.0, 217.8, 194.4, 216.15, 217.05, 315.15, 254.25, 314.7, 330.45, 258.9, 301.95, 313.35, 247.35, 192.0, 330.0, 228.75, 235.05, 293.4, 310.65, 187.8, 259.2, 243.3, 314.1, 254.25, 184.05, 256.35, 245.85, 287.7, 291.0, 313.8, 262.8, 247.5, 317.55, 288.0, 261.6, 323.85, 267.0, 393.6, 264.75, 200.55, 260.4, 286.05, 282.75, 200.1, 246.75, 307.35, 281.4, 282.3, 272.25, 231.75, 262.8, 316.5, 317.7, 172.5, 320.1, 184.8, 283.35, 335.7, 276.75, 247.95, 241.8, 255.75, 306.9, 277.65, 283.05, 205.5, 131.7, 227.25, 327.15, 271.35, 237.75, 296.1, 234.9, 136.35, 321.3, 283.05, 254.1, 246.15, 322.65, 278.85, 374.55, 287.25, 216.75, 261.45, 288.0, 250.5, 292.8, 175.2, 261.9, 315.6, 269.7, 314.4, 226.65, 297.0, 241.5, 251.25, 201.6, 242.7, 292.95, 291.15, 242.1, 304.2, 282.6, 208.65, 249.6, 245.55, 221.55, 311.85, 210.45, 262.05, 327.3, 217.05, 285.3, 328.95, 174.15, 225.0, 212.4, 243.45, 246.3, 203.85, 313.5, 268.35, 290.55, 255.45, 201.75, 194.25, 287.1, 291.3, 302.85, 214.2, 318.6, 265.65, 290.85, 202.65, 311.25, 216.45, 330.6, 301.8, 268.95, 292.5, 200.25, 214.2, 311.25, 311.1, 272.55, 259.95, 292.2, 291.15, 329.85, 261.3, 335.25, 242.85, 243.15, 278.1, 267.0, 245.55, 285.45, 340.8, 322.05, 201.3, 240.15, 240.6, 320.25, 243.3, 230.85, 256.2, 216.15, 249.3, 288.45, 337.8, 219.9, 194.25, 266.4, 339.0, 262.95, 321.75, 250.8, 231.75, 288.15, 235.5, 352.35, 287.1, 210.9, 295.95, 334.95, 216.9, 189.45, 205.35, 226.8, 275.85, 323.4, 273.0, 219.0, 221.7, 185.4, 289.05, 243.9, 206.1, 329.7, 261.45, 239.4, 282.15, 327.45, 392.4, 219.3, 243.75, 321.9, 332.1, 222.75, 209.1, 226.5, 289.5, 266.25, 195.0, 225.75, 220.95, 225.0, 270.9, 259.5, 209.7, 295.65, 327.6, 292.35, 192.75, 202.65, 341.4, 291.0, 278.1, 252.0, 234.75, 267.9, 291.75, 269.1, 257.1, 261.45, 228.3, 255.3, 287.1, 289.2, 277.05, 189.0, 249.0, 310.35, 256.5, 237.6, 237.9, 220.5, 229.05, 243.75, 271.5, 291.45, 233.1, 186.45, 305.4, 298.2, 272.55, 209.25, 233.1, 228.0, 217.8, 216.0, 312.45, 295.35, 359.85, 302.25, 285.0, 302.25, 212.1, 189.0, 258.6, 345.3, 201.75, 239.55, 310.65, 257.25, 303.45, 228.75, 259.35, 263.4, 233.4, 295.95, 247.05, 231.75, 287.7, 313.2, 348.15, 238.05, 281.1, 317.1, 314.7, 291.75, 196.95, 212.55, 264.45, 248.85, 236.55, 281.1, 226.5, 251.55, 268.95, 325.05, 264.9, 214.5, 303.3, 215.85, 306.45, 287.1, 270.3, 341.7, 253.5, 295.5, 261.3, 229.65, 355.65, 290.7, 245.4, 304.5, 244.35, 319.65, 230.85, 336.6, 235.95, 286.95, 286.65, 319.05, 233.4, 244.2, 232.35, 219.6, 225.3, 226.5, 234.15, 166.5, 244.65, 330.6, 328.8, 308.7, 281.55, 333.9, 240.6, 216.75, 176.1, 260.85, 227.25, 328.05, 307.5, 205.95, 337.8, 266.4, 234.75, 273.3, 237.0, 274.65, 315.6, 311.4, 244.8, 236.4, 308.85, 303.3, 249.9, 363.6, 362.7, 203.4, 206.55, 220.5, 258.3, 265.65, 283.95, 224.4, 246.45, 291.6, 277.5, 259.05, 275.25, 291.9, 224.7, 244.2, 274.65, 243.15, 215.1, 277.35, 282.9, 352.05, 306.15, 306.0, 235.5, 326.55, 262.8, 293.1, 308.1, 214.5, 268.2, 307.65, 331.65, 315.9, 295.2, 219.15, 249.45, 300.9, 204.75, 164.1, 275.4, 368.1, 318.0, 289.5, 314.55, 282.6, 231.9, 320.55, 213.75, 269.85, 144.75, 204.15, 316.5, 219.75, 245.55, 232.65, 395.4, 264.9, 336.3, 279.75, 252.6, 210.0, 299.4, 249.6, 262.5, 310.5, 374.25, 207.3, 258.6, 300.75, 208.5, 209.25, 200.4, 288.9, 254.1, 341.4, 244.35, 302.25, 312.75, 223.8, 281.7, 252.45, 286.05, 255.45, 258.9, 359.55, 291.45, 211.05, 340.2, 190.5, 266.1, 295.95, 204.75, 201.0, 316.95, 222.3, 234.0, 211.35, 304.35, 286.05, 367.5, 316.8, 203.25, 222.6, 259.95, 200.55, 219.0, 185.85, 364.65, 232.8, 231.6, 322.65, 362.7, 267.3, 284.55, 225.3, 290.4, 190.2, 243.45, 322.05, 228.9, 279.0, 340.5, 171.3, 187.05, 237.15, 320.4, 322.2, 228.3, 290.55, 225.15, 187.05, 327.75, 229.65, 326.25, 266.25, 280.2, 256.05, 155.85, 279.75, 212.4, 208.05, 184.65, 241.95, 297.0, 272.25, 296.1, 258.0, 224.1, 318.3, 267.9, 205.05, 266.85, 307.65, 261.45, 303.6, 238.05, 243.15, 190.05, 279.6, 301.8, 332.4, 304.95, 273.0, 279.45, 302.85, 236.85, 222.15, 286.05, 253.65, 314.4, 319.2, 271.95, 225.3, 301.65, 231.9, 219.9, 254.85, 304.65, 276.75, 280.65, 398.55, 196.2, 267.0, 163.05, 187.8, 291.0, 341.85, 253.8, 286.95, 352.95, 300.3, 296.85, 314.4, 280.2, 191.4, 254.7, 227.1, 209.85, 251.55, 244.05, 194.85, 309.6, 268.65, 183.6, 275.1, 262.8, 254.55, 233.4, 288.75, 224.1, 349.35, 283.35, 309.6, 296.4, 353.25, 310.65, 300.15, 218.55, 238.2, 322.05, 279.9, 287.55, 227.4, 256.05, 222.6, 237.45, 281.1, 300.0, 222.6, 213.9, 232.8, 252.0, 332.1, 364.2, 247.65, 205.8, 244.95, 243.15, 246.15, 318.45, 174.3, 197.85, 325.65, 277.05, 136.95, 227.4, 259.05, 296.1, 202.8, 168.3, 326.4, 215.4, 302.85, 243.6, 229.95, 296.25, 220.65, 300.9, 271.95, 341.1, 213.45, 273.45, 204.15, 282.15, 243.9, 259.2, 250.65, 230.1, 208.2, 320.7, 224.7, 337.95, 193.8, 262.2, 295.5, 261.75, 196.2, 214.8, 293.25, 232.65, 291.15, 285.6, 304.65, 246.45, 250.2, 260.7, 224.85, 223.65, 309.6, 189.6, 280.05, 213.0, 282.75, 328.8, 333.45, 208.95, 218.25, 220.05, 184.65, 375.3, 325.05, 318.45, 261.9, 252.6, 259.8, 240.6, 295.65, 214.35, 260.7, 227.4, 193.35, 205.05, 315.9, 306.3, 323.55, 226.2, 223.5, 234.9, 298.5, 277.2, 286.8, 303.3, 315.45, 284.4, 295.2, 284.55, 271.05, 283.8, 234.0, 187.65, 306.3, 232.8, 217.5, 202.8, 258.15, 317.1, 308.4, 238.05, 297.9, 255.6, 274.2, 215.4, 274.05, 328.8, 237.0, 274.05, 239.1, 281.7, 319.8, 288.9, 270.9, 216.0, 290.85, 259.35, 180.15, 312.0, 294.45, 265.35, 315.9, 245.7, 205.95, 231.45, 337.05, 272.4, 254.7, 295.8, 192.45, 209.4, 265.5, 303.0, 201.9, 288.0, 212.1, 250.95, 329.1, 228.75, 246.3, 219.9, 206.1, 342.15, 294.6, 241.35, 348.9, 170.7, 337.05, 339.9, 286.95, 283.95, 277.2, 283.35, 296.55, 208.8, 245.4, 335.7, 216.9, 310.05, 289.2, 267.15, 322.8, 245.55, 261.15, 323.7, 306.0, 231.9, 316.8, 197.85, 252.75, 291.9, 305.1, 321.3, 243.0, 261.0, 290.25, 264.15, 264.0, 247.95, 249.75, 270.75, 308.55, 271.2, 294.45, 293.1, 287.7, 253.5, 202.5, 229.35, 335.85, 244.05, 284.1, 314.4, 291.3, 307.95, 237.9, 267.0, 260.1, 204.45, 232.8, 198.15, 191.1, 276.45, 272.7, 231.6, 341.85, 257.1, 242.7, 268.35, 310.35, 152.55, 326.7, 212.25, 294.15, 294.75, 265.35, 243.15, 281.55, 286.5, 279.9, 307.5, 248.85, 272.85, 249.6, 246.6, 299.7, 292.5, 288.6, 286.95, 253.35, 309.15, 309.15, 190.35, 227.7, 262.05, 229.95, 319.5, 392.55, 325.65, 318.3, 222.9, 299.1, 189.3, 220.8, 259.2, 276.75, 311.25, 314.25, 273.9, 230.7, 238.2, 296.55, 192.9, 260.4, 248.85, 347.85, 336.3, 251.25, 307.2, 225.9, 234.75, 227.1, 311.85, 187.8, 233.4, 270.45, 293.7, 316.95, 297.6, 331.35, 255.9, 252.9, 282.0, 231.45, 274.65, 284.1, 257.55, 316.95, 219.3, 305.1, 301.2, 232.65, 337.8, 223.5, 219.6, 272.7, 241.05, 288.6, 302.4, 220.8, 270.3, 270.45, 272.85, 283.8, 210.3, 207.9, 246.9, 317.25, 263.25, 311.25, 309.0, 309.0, 305.55, 282.9, 199.2, 274.5, 286.65, 223.2, 330.3, 295.5, 227.7, 212.7, 227.25, 275.7, 282.15, 256.05, 356.4, 332.1, 317.4, 226.05, 186.6, 238.5, 300.6, 226.65, 292.95, 279.45, 311.7, 273.6, 257.85, 302.85, 323.1, 229.5, 229.2, 206.55, 274.95, 259.65, 225.15, 346.35, 248.7, 265.5, 231.0, 286.2, 212.55, 304.2, 256.95, 341.25, 317.1, 219.15, 318.75, 311.1, 214.8, 313.05, 226.65, 245.7, 250.95, 323.25, 235.5, 250.8, 310.35, 297.15, 299.7, 269.55, 214.2, 238.5, 318.0, 207.15, 256.65, 345.75, 227.85, 302.85, 293.1, 238.5, 307.2, 235.35, 240.9, 283.8, 300.15, 294.0, 293.1, 314.25, 295.95, 227.1, 253.5, 252.45, 159.45, 339.6, 314.85, 252.75, 220.95, 229.05, 221.55, 283.2, 308.4, 265.05, 354.15, 197.55, 240.75, 178.5, 345.9, 314.85, 316.35, 324.15, 268.65, 175.5, 254.1, 287.4, 185.25, 295.05, 253.35, 225.0, 267.3, 299.4, 239.1, 325.5, 219.6, 228.6, 235.8, 379.35, 220.65, 195.75, 284.1, 318.3, 219.45, 310.65, 236.7, 278.25, 268.65, 264.6, 282.75, 276.45, 337.2, 229.05, 181.8, 208.65, 217.95, 318.9, 261.75, 319.35, 270.6, 316.2, 267.45, 302.1, 314.7, 241.35, 251.1, 269.7, 249.0, 315.45, 303.0, 220.5, 245.85, 228.15, 298.95, 305.1, 249.15, 334.8, 295.5, 233.4, 358.2, 333.3, 320.55, 356.4, 220.35, 258.75, 205.95, 297.9, 250.2, 255.6, 280.05, 293.7, 284.4, 232.65, 245.4, 296.25, 277.95, 191.25, 214.5, 355.5, 243.45, 220.5, 323.85, 217.05, 185.25, 232.65, 278.25, 237.9, 265.2, 256.2, 250.65, 313.05, 340.95, 237.3, 316.05, 303.15, 286.35, 320.7, 228.75, 207.15, 241.5, 302.55, 313.5, 173.25, 329.25, 313.05, 215.85, 309.45, 278.4, 176.4, 279.6, 277.8, 270.15, 201.6, 334.5, 329.25, 268.95, 243.9, 215.7, 219.45, 270.9, 289.35, 246.3, 322.65, 294.75, 349.05, 324.15, 249.75, 241.95, 223.2, 328.5, 255.3, 277.95, 214.05, 293.85, 304.5, 252.6, 265.65, 283.65, 294.45, 285.75, 276.15, 297.9, 309.45, 338.7, 247.95, 304.95, 239.25, 247.05, 261.6, 261.6, 165.3, 333.45, 236.85, 290.55, 223.35, 314.55, 244.35, 259.35, 233.85, 183.75, 310.5, 193.05, 209.1, 233.1, 305.1, 274.8, 311.55, 229.35, 238.2, 287.1, 201.6, 301.2, 204.9, 345.9, 219.45, 230.55, 281.1, 309.45, 280.35, 318.15, 290.25, 261.75, 244.65, 233.1, 205.95, 239.1, 330.6, 314.85, 342.0, 312.3, 281.7, 281.85, 228.6, 193.65, 301.95, 252.75, 186.15, 234.75, 246.3, 312.3, 234.9, 198.0, 233.7, 308.7, 316.35, 311.1, 294.9, 195.75, 210.6, 191.7, 305.1, 267.75, 289.2, 337.95, 231.3, 289.5, 325.2, 330.0, 306.0, 242.25, 200.4, 224.7, 206.1, 142.2, 307.65, 205.35, 284.7, 216.75, 234.45, 310.35, 185.7, 281.25, 267.75, 179.85, 286.05, 302.7, 319.05, 269.55, 234.3, 324.0, 271.8, 295.8, 315.0, 262.8, 311.55, 251.85, 225.0, 316.95, 213.6, 219.0, 290.25, 287.25, 309.6, 181.95, 236.4, 247.95, 261.6, 306.3, 177.45, 323.85, 202.8, 228.45, 190.5, 306.75, 231.75, 233.4, 316.35, 202.95, 298.05, 199.2, 228.6, 177.9, 301.8, 296.1, 263.55, 264.3, 313.8, 305.55, 247.8, 313.05, 340.2, 228.3, 215.85, 315.0, 248.25, 172.05, 240.9, 289.2, 312.3, 240.45, 338.1, 298.65, 216.3, 321.0, 275.25, 273.75, 205.8, 294.9, 298.8, 195.9, 236.25, 223.8, 210.6, 233.85, 375.9, 249.6, 231.15, 250.35, 245.25, 249.45, 321.45, 254.7, 285.75, 207.9, 337.35, 317.55, 208.5, 313.5, 215.85, 264.9, 287.25, 223.2, 240.15, 246.9, 318.3, 273.0, 267.45, 270.9, 365.4, 209.4, 331.8, 333.6, 211.65, 266.1, 250.95, 281.1, 337.35, 231.45, 297.3, 312.45, 249.15, 260.4, 310.65, 302.4, 274.5, 244.95, 312.45, 246.6, 298.65, 243.6, 289.65, 276.15, 364.35, 272.55, 229.35, 262.5, 235.05, 199.8, 310.65, 312.15, 223.65, 259.65, 286.65, 204.0, 320.25, 249.75, 215.7, 272.7, 330.3, 271.8, 246.9, 314.25, 343.05, 190.65, 247.5, 353.7, 239.25, 239.7, 279.45, 217.05, 231.9, 391.2, 290.55, 316.35, 195.9, 226.05, 216.0, 268.35, 211.65, 285.3, 318.0, 249.0, 340.95, 310.35, 204.9, 274.65, 301.05, 251.7, 287.4, 240.0, 292.65, 307.05, 319.8, 278.25, 240.75, 226.35, 252.15, 228.6, 258.15, 312.75, 266.4, 250.05, 342.15, 323.25, 267.0, 254.55, 232.35, 196.95, 195.0, 224.55, 341.1, 225.45, 282.45, 186.0, 254.85, 237.9, 312.15, 279.0, 209.25, 241.8, 220.95, 199.65, 318.3, 277.8, 226.65, 258.45, 291.0, 348.0, 327.6, 288.0, 438.6, 221.7, 339.9, 278.25, 307.65, 212.55, 247.05, 208.8, 289.05, 386.1, 280.2, 209.7, 325.65, 240.15, 257.4, 191.1, 264.15, 218.1, 166.05, 309.75, 292.35, 187.35, 324.6, 309.3, 229.35, 221.85, 218.1, 232.8, 225.15, 308.7, 401.25, 300.6, 328.5, 201.75, 268.95, 269.55, 288.75, 337.05, 219.9, 215.25, 236.85, 259.95, 321.15, 272.4, 286.95, 254.25, 216.9, 204.75, 201.75, 319.35, 371.7, 291.9, 249.6, 282.6, 191.1, 338.85, 184.5, 251.7, 319.5, 249.45, 289.35, 239.4, 298.65, 195.45, 239.1, 319.65, 279.75, 320.4, 317.1, 286.95, 225.15, 293.25, 246.45, 211.8, 280.35, 288.15, 283.05, 316.5, 273.15, 229.65, 261.15, 323.25, 213.45, 286.05, 268.05, 269.4, 237.0, 273.75, 252.6, 234.9, 305.85, 320.4, 229.65, 188.85, 209.55, 352.2, 317.85, 293.85, 331.65, 278.7, 254.85, 283.05, 225.0, 261.0, 255.9, 348.6, 288.15, 257.1, 197.4, 337.2, 233.1, 251.55, 224.85, 299.25, 246.3, 335.85, 315.15, 295.8, 285.0, 205.05, 146.25, 262.2, 282.9, 201.75, 337.5, 282.75, 340.65, 298.05, 309.9, 280.8, 285.6, 268.5, 291.9, 309.45, 287.85, 315.9, 182.7, 351.15, 294.45, 264.6, 233.85, 348.9, 212.25, 354.9, 246.9, 262.35, 262.8, 291.15, 270.3, 271.65, 254.25, 308.55, 238.2, 211.95, 253.8, 228.3, 193.35, 250.65, 293.25, 301.5, 243.3, 301.8, 243.9, 188.25, 254.85, 246.3, 279.75, 171.0, 339.0, 355.5, 241.35, 310.35, 285.9, 320.1, 238.35, 161.4, 307.95, 256.95, 310.8, 325.95, 362.7, 207.15, 223.5, 190.8, 298.2, 246.0, 262.35, 271.05, 237.15, 296.1, 343.35, 231.3, 329.7, 259.5, 375.0, 308.55, 331.95, 324.9, 306.9, 196.35, 290.4, 175.05, 220.05, 291.45, 354.15, 296.25, 269.25, 340.65, 339.15, 256.65, 294.0, 236.1, 293.85, 236.85, 283.2, 221.1, 218.25, 293.55, 277.65, 259.05, 309.3, 339.3, 213.15, 319.95, 334.05, 276.9, 334.05, 204.3, 292.65, 328.8, 225.6, 303.0, 282.6, 247.95, 192.75, 197.7, 270.15, 325.35, 344.85, 312.15, 245.55, 234.9, 228.75, 181.95, 295.35, 241.2, 309.0, 274.35, 264.15, 243.3, 288.15, 208.2, 337.05, 222.3, 285.0, 293.85, 267.0, 262.05, 200.7, 239.55, 259.2, 305.55, 258.0, 228.45, 212.7, 238.35, 246.9, 401.25, 237.9, 320.1, 330.75, 203.1, 199.35, 225.15, 220.65, 326.7, 307.5, 317.4, 283.35, 249.0, 180.45, 237.45, 212.7, 251.1, 258.6, 249.3, 233.7, 286.5, 309.75, 264.75, 252.15, 220.2, 336.0, 204.3, 306.6, 235.8, 234.0, 269.7, 270.0, 202.65, 212.85, 320.1, 257.4, 329.1, 359.1, 267.9, 247.2, 313.8, 192.3, 199.35, 285.6, 332.1, 251.85, 166.05, 295.35, 282.9, 297.75, 307.5, 318.45, 321.45, 156.75, 213.3, 258.3, 313.8, 208.95, 231.15, 310.05, 259.65, 187.65, 232.95, 225.9, 293.25, 273.3, 324.45, 291.9, 264.75, 296.55, 290.85, 275.25, 154.8, 256.05, 327.6, 330.45, 261.9, 288.9, 204.6, 209.4, 314.25, 280.95, 194.7, 257.55, 250.05, 248.1, 167.55, 226.2, 232.35, 334.95, 196.65, 216.15, 247.2, 218.55, 215.85, 203.85, 300.45, 296.7, 231.6, 229.2, 216.9, 270.0, 217.5, 205.8, 220.8, 274.8, 291.3, 232.65, 231.15, 248.25, 111.45, 283.95, 250.35, 286.5, 238.05, 264.0, 322.65, 218.55, 226.05, 223.5, 303.45, 160.5, 271.5, 282.15, 242.25, 280.95, 204.6, 224.7, 272.7, 285.75, 239.1, 177.3, 300.0, 292.65, 230.85, 299.1, 226.8, 214.2, 265.8, 204.9, 217.5, 199.5, 222.6, 251.1, 256.05, 263.1, 247.8, 335.85, 223.35, 255.45, 281.55, 293.25, 228.3, 231.75, 234.6, 233.85, 298.5, 236.25, 330.3, 283.95, 255.3, 323.7, 219.75, 326.85, 241.65, 317.25, 303.6, 308.85, 187.05, 311.7, 395.85, 281.25, 148.05, 226.8, 213.0, 210.75, 309.6, 274.35, 208.05, 280.05, 339.3, 227.85, 293.4, 240.75, 232.35, 326.1, 294.3, 286.35, 213.75, 278.85, 214.35, 295.5, 240.3, 311.7, 281.55, 250.05, 333.15, 258.15, 343.8, 300.15, 199.2, 214.95, 207.0, 288.15, 267.6, 334.2, 298.5, 244.65, 310.2, 290.7, 326.25, 294.9, 227.4, 246.0, 315.45, 220.65, 318.0, 320.4, 317.4, 309.3, 259.2, 268.8, 275.25, 190.8, 275.55, 297.6, 288.45, 271.65, 164.7, 296.55, 260.55, 190.05, 351.45, 338.85, 203.25, 256.95, 262.05, 209.7, 246.0, 259.95, 183.75, 323.85, 285.15, 302.7, 186.6, 295.2, 241.8, 313.5, 205.35, 229.8, 265.5, 214.8, 256.8, 217.2, 231.3, 234.75, 206.7, 254.7, 317.4, 301.05, 327.6, 217.8, 296.4, 295.65, 348.15, 218.4, 255.3, 309.45, 239.4, 226.95, 177.75, 234.15, 194.1, 312.15, 234.9, 317.4, 165.45, 266.85, 217.5, 221.85, 372.15, 297.6, 346.8, 279.0, 342.45, 321.0, 202.65, 258.6, 269.25, 254.55, 256.8, 236.25, 316.5, 225.45, 229.35, 225.3, 178.8, 281.7, 265.65, 256.8, 309.9, 296.85, 290.4, 249.3, 255.0, 243.9, 359.1, 251.25, 383.1, 181.35, 291.9, 318.75, 260.7, 203.25, 365.85, 187.05, 322.8, 233.7, 253.35, 290.1, 256.65, 274.05, 278.85, 257.7, 293.55, 309.9, 175.65, 328.95, 276.6, 292.2, 275.4, 271.35, 265.05, 307.05, 312.6, 213.15, 246.0, 254.85, 220.2, 307.8, 249.15, 151.95, 213.6, 213.15, 223.65, 247.5, 231.9, 266.4, 230.4, 262.2, 304.5, 295.2, 218.55, 195.75, 281.55, 317.85, 264.3, 289.2, 256.35, 164.4, 327.75, 297.45, 211.5, 231.45, 280.2, 279.9, 280.05, 214.05, 136.05, 268.05, 215.55, 232.35, 300.3, 270.9, 286.95, 321.0, 302.4, 310.8, 237.45, 302.1, 323.1, 233.4, 262.8, 264.3, 198.45, 263.85, 262.8, 339.9, 189.45, 308.7, 322.95, 274.35, 308.85, 246.45, 252.15, 181.35, 263.7, 213.75, 204.9, 212.7, 238.8, 318.15, 321.0, 273.6, 194.85, 256.35, 266.7, 230.85, 167.85, 238.5, 299.25, 184.95, 381.3, 319.2, 271.35, 222.45, 220.8, 237.6, 181.2, 253.95, 236.85, 286.5, 274.95, 259.65, 378.75, 353.25, 329.25, 266.25, 199.95, 283.2, 286.2, 328.8, 253.8, 217.8, 273.45, 303.6, 225.15, 213.0, 274.5, 319.65, 277.5, 255.45, 207.75, 256.2, 237.6, 311.7, 246.75, 349.5, 246.15, 191.7, 292.8, 192.75, 278.1, 271.35, 280.35, 207.3, 205.35, 248.1, 259.8, 260.4, 200.1, 277.95, 236.55, 207.3, 227.55, 298.35, 357.75, 319.5, 216.15, 250.65, 320.4, 250.2, 222.75, 341.25, 273.45, 206.1, 323.7, 231.6, 244.35, 301.5, 260.7, 289.8, 257.1, 303.6, 265.05, 275.1, 255.15, 234.3, 189.6, 288.15, 281.85, 288.3, 305.25, 209.1, 306.15, 299.55, 222.75, 264.15, 229.35, 205.95, 324.6, 315.15, 299.85, 236.25, 285.45, 335.7, 288.9, 288.75, 243.0, 298.8, 299.85, 222.6, 240.15, 294.75, 230.85, 272.4, 224.1, 211.8, 339.75, 224.25, 303.15, 242.85, 275.85, 330.15, 173.85, 283.5, 235.95, 325.2, 209.4, 220.8, 293.4, 300.0, 176.25, 268.05, 258.3, 241.95, 272.7, 275.7, 294.0, 297.15, 203.7, 199.2, 259.5, 306.15, 183.15, 246.15, 214.5, 210.9, 253.2, 280.2, 325.05, 238.8, 304.35, 258.0, 325.35, 322.65, 294.75, 305.1, 232.65, 149.25, 200.25, 262.05, 210.75, 198.15, 201.6, 223.5, 289.8, 303.0, 291.6, 230.85, 229.2, 269.4, 303.45, 266.7, 363.15, 292.35, 256.95, 181.65, 327.0, 367.95, 216.45, 229.65, 179.25, 316.8, 176.7, 256.8, 220.8, 332.85, 320.1, 219.3, 266.4, 201.45, 235.5, 214.35, 298.95, 211.8, 219.3, 208.2, 234.0, 257.25, 258.45, 269.25, 236.7, 280.35, 298.5, 244.2, 248.1, 274.5, 294.0, 312.3, 297.15, 198.6, 229.35, 214.5, 223.35, 205.2, 262.05, 256.5, 198.6, 282.75, 295.95, 291.9, 315.45, 305.85, 244.5, 286.8, 188.85, 292.95, 326.7, 465.45, 331.95, 273.9, 192.6, 369.3, 294.75, 281.7, 250.35, 277.95, 166.35, 261.45, 231.6, 231.45, 301.8, 288.3, 331.95, 321.0, 277.5, 296.85, 227.55, 300.3, 298.5, 202.95, 219.0, 185.25, 309.3, 297.0, 291.9, 259.65, 311.1, 362.7, 357.15, 211.2, 226.5, 239.7, 278.25, 207.75, 282.6, 239.55, 259.8, 342.3, 250.2, 254.1, 250.65, 277.35, 228.9, 214.8, 318.15, 366.6, 254.25, 253.95, 219.75, 222.9, 259.95, 260.55, 280.8, 308.4, 321.6, 304.05, 327.15, 332.25, 242.1, 210.15, 230.85, 318.9, 184.35, 303.9, 326.1, 218.1, 342.3, 283.05, 289.05, 214.5, 311.7, 337.2, 321.45, 198.0, 206.7, 318.3, 298.5, 283.95, 251.85, 284.4, 255.3, 359.7, 199.35, 302.1, 252.9, 245.85, 269.55, 212.55, 264.75, 289.95, 266.7, 241.8, 296.1, 224.1, 243.45, 266.55, 278.7, 322.2, 290.55, 282.45, 193.05, 224.85, 239.55, 191.25, 229.95, 216.9, 339.75, 242.55, 330.15, 258.6, 288.15, 330.15, 211.95, 232.8, 239.25, 264.9, 247.5, 244.35, 410.1, 292.95, 265.95, 220.05, 309.45, 250.65, 293.25, 267.3, 215.25, 330.15, 247.65, 312.75, 324.15, 250.8, 290.55, 237.3, 277.95, 248.25, 227.55, 228.9, 374.7, 188.55, 300.45, 200.85, 289.95, 327.45, 295.35, 291.15, 304.65, 217.8, 253.8, 294.6, 296.4, 192.0, 239.55, 339.15, 316.2, 269.4, 271.95, 193.05, 207.15, 216.0, 303.75, 308.55, 199.2, 348.6, 324.6, 290.7, 311.55, 292.35, 313.05, 230.4, 270.15, 305.25, 245.55, 281.85, 251.55, 282.75, 231.15, 230.1, 207.45, 242.25, 281.25, 200.85, 283.05, 299.7, 196.8, 195.9, 211.2, 191.55, 335.7, 330.15, 280.05, 345.45, 259.5, 337.05, 290.25, 218.7, 317.1, 305.25, 247.5, 240.75, 352.95, 301.8, 213.45, 226.5, 305.25, 250.2, 293.55, 268.5, 239.55, 207.3, 341.1, 210.3, 239.7, 238.5, 332.4, 293.1, 289.95, 261.15, 296.55, 251.55, 296.4, 279.9, 307.35, 238.5, 290.85, 185.55, 304.2, 210.3, 247.35, 285.6, 234.75, 329.4, 270.0, 311.4, 308.25, 285.15, 309.6, 231.3, 234.6, 292.8, 247.95, 286.05, 253.35, 271.5, 216.6, 244.35, 229.35, 236.25, 328.35, 308.7, 284.85, 278.85, 207.75, 255.15, 303.15, 240.3, 271.95, 268.95, 366.75, 214.65, 310.35, 233.4, 300.9, 236.4, 245.7, 218.1, 282.3, 288.75, 206.1, 203.25, 250.65, 304.2, 312.0, 227.7, 296.85, 184.65, 280.8, 251.4, 173.1, 238.35, 225.75, 209.4, 342.3, 247.2, 290.4, 318.9, 234.45, 187.5, 244.05, 306.75, 313.05, 324.6, 200.1, 319.65, 204.6, 250.2, 337.2, 346.95, 197.4, 213.45, 248.55, 249.0, 192.3, 250.95, 322.2, 215.85, 268.8, 250.35, 331.5, 283.8, 231.15, 217.35, 273.6, 240.0, 303.9, 297.45, 250.05, 238.5, 302.1, 240.9, 293.1, 221.1, 220.05, 302.55, 228.15, 348.15, 292.05, 264.15, 310.35, 212.85, 212.85, 211.05, 295.35, 295.8, 272.55, 269.4, 294.6, 285.45, 316.65, 224.55, 294.75, 290.7, 280.5, 320.7, 228.15, 219.3, 299.25, 232.95, 187.35, 269.1, 221.85, 398.7, 231.45, 203.7, 294.75, 222.3, 299.25, 188.25, 223.65, 283.95, 337.05, 243.15, 302.4, 231.3, 266.85, 342.45, 228.3, 285.15, 265.8, 335.55, 198.9, 304.35, 251.4, 256.95, 232.5, 224.85, 258.3, 264.0, 279.6, 346.65, 224.55, 255.75, 271.95, 235.65, 320.55, 250.5, 344.7, 240.6, 280.35, 240.6, 232.65, 238.95, 300.45, 273.45, 278.55, 252.45, 307.8, 237.45, 192.45, 220.35, 211.8, 331.8, 301.2, 281.4, 278.55, 306.45, 293.55, 314.85, 176.85, 216.6, 242.25, 251.55, 298.05, 210.3, 252.75, 200.4, 295.8, 310.35, 247.65, 242.55, 256.05, 321.0, 334.8, 265.35, 239.25, 182.55, 218.25, 211.5, 247.8, 320.4, 312.0, 238.2, 227.1, 263.25, 210.6, 277.35, 316.65, 198.45, 276.6, 224.4, 235.05, 234.9, 249.15, 262.05, 312.3, 241.95, 212.1, 320.1, 229.8, 348.15, 207.3, 287.55, 240.0, 376.8, 213.3, 254.4, 266.4, 228.75, 215.7, 190.2, 259.95, 261.15, 209.1, 330.6, 383.4, 251.85, 281.7, 248.7, 205.65, 244.8, 307.5, 271.95, 326.4, 277.95, 247.95, 216.6, 328.95, 207.75, 310.2, 348.6, 184.95, 258.45, 278.85, 210.0, 300.9, 207.3, 282.6, 316.95, 288.6, 298.8, 333.9, 190.8, 304.65, 257.25, 343.5, 272.7, 293.1, 266.1, 191.85, 280.5, 198.75, 240.75, 229.05, 292.95, 328.95, 261.9, 204.3, 328.5, 301.05, 247.5, 313.05, 331.2, 202.8, 235.35, 293.4, 227.4, 221.4, 288.9, 273.75, 220.65, 284.55, 294.45, 396.6, 248.4, 280.35, 236.25, 243.3, 241.05, 342.0, 266.25, 369.9, 253.8, 246.9, 233.55, 274.2, 354.6, 263.1, 302.1, 236.25, 238.65, 321.9, 308.55, 218.25, 301.05, 299.7, 283.35, 243.45, 276.0, 237.6, 246.0, 333.45, 360.3, 217.35, 346.2, 193.95, 247.5, 300.75, 246.45, 166.05, 262.8, 314.85, 249.9, 288.0, 181.95, 324.0, 211.65, 253.35, 364.65, 310.2, 333.15, 278.4, 199.65, 303.75, 213.6, 330.0, 226.05, 355.65, 189.9, 201.75, 351.9, 257.25, 297.9, 325.05, 294.0, 295.05, 227.7, 237.15, 300.0, 228.75, 339.3, 237.0, 313.65, 288.9, 260.85, 231.15, 260.7, 304.8, 234.45, 269.55, 303.6, 281.1, 299.4, 309.3, 187.8, 298.2, 162.9, 201.3, 196.5, 315.6, 275.25, 322.5, 280.2, 311.85, 251.55, 199.2, 321.45, 237.3, 281.25, 235.35, 306.45, 207.9, 259.2, 327.9, 313.95, 269.55, 222.45, 267.45, 295.95, 316.05, 221.85, 297.6, 179.4, 312.75, 293.1, 283.05, 258.0, 303.3, 298.95, 219.15, 330.0, 209.4, 319.5, 268.8, 304.5, 268.95, 250.65, 221.55, 298.2, 257.85, 285.0, 314.1, 178.95, 226.2, 270.15, 194.85, 267.45, 218.4, 249.45, 323.55, 287.1, 271.65, 278.7, 229.05, 300.75, 269.1, 324.0, 346.95, 335.7, 279.45, 348.3, 301.95, 189.45, 283.05, 247.05, 314.1, 257.1, 235.35, 235.05, 291.15, 215.85, 240.3, 412.05, 193.95, 272.25, 298.95, 199.2, 228.9, 327.0, 256.35, 232.2, 228.15, 337.2, 186.0, 255.15, 321.15, 223.35, 297.75, 277.5, 149.1, 317.55, 257.55, 199.5, 300.75, 216.3, 270.0, 252.75, 250.95, 303.75, 243.75, 182.4, 303.75, 219.9, 184.2, 318.3, 305.7, 190.65, 303.3, 268.05, 229.8, 198.6, 217.05, 280.2, 289.05, 273.3, 300.15, 302.7, 229.95, 243.75, 331.35, 177.6, 266.55, 283.5, 302.25, 244.8, 313.35, 256.95, 195.6, 250.2, 300.0, 277.95, 187.35, 285.45, 271.65, 306.15, 291.15, 229.65, 171.9, 310.35, 292.35, 196.35, 195.3, 201.3, 268.2, 339.9, 208.05, 350.1, 256.8, 228.9, 269.7, 209.55, 169.05, 266.55, 230.1, 220.5, 291.9, 260.55, 226.5, 233.55, 212.55, 322.5, 326.4, 352.5, 247.65, 343.8, 321.75, 222.0, 305.25, 235.05, 319.65, 238.2, 396.0, 269.4, 254.85, 316.5, 329.4, 181.5, 215.25, 277.8, 195.75, 208.5, 269.7, 269.7, 358.05, 220.2, 290.55, 209.1, 352.65, 242.55, 342.75, 219.15, 323.1, 300.45, 319.8, 201.75, 303.6, 258.45, 303.6, 241.95, 196.05, 315.75, 225.6, 213.0, 327.0, 247.95, 316.65, 212.1, 236.25, 260.7, 285.3, 285.75, 327.3, 240.3, 267.9, 291.15, 300.75, 310.65, 234.45, 199.65, 175.95, 208.2, 312.6, 222.6, 310.2, 260.85, 322.65, 222.9, 205.5, 248.7, 275.4, 230.7, 249.9, 193.5, 300.9, 225.3, 274.5, 227.7, 203.1, 358.65, 345.6, 233.85, 259.5, 227.4, 263.55, 324.6, 219.15, 272.25, 241.2, 305.1, 154.5, 236.85, 221.4, 218.25, 273.3, 214.95, 327.45, 343.8, 197.4, 215.4, 267.0, 186.6, 291.3, 310.05, 223.35, 310.95, 282.3, 261.9, 236.1, 183.6, 276.0, 324.75, 268.65, 320.25, 316.8, 301.05, 284.25, 288.45, 223.35, 278.7, 271.65, 238.2, 228.3, 285.0, 265.35, 298.2, 295.35, 295.65, 189.0, 220.8, 263.85, 219.6, 242.85, 296.4, 262.2, 283.5, 253.35, 313.65, 270.9, 301.2, 342.3, 145.95, 262.65, 285.75, 340.05, 251.7, 311.1, 332.25, 272.7, 239.55]\n",
      "[250.95, 291.75, 283.8, 366.3, 206.25, 294.45, 239.7, 196.35, 316.2, 239.55, 226.35, 241.5, 299.7, 270.3, 248.4, 265.35, 293.1, 316.05, 261.75, 270.6, 258.0, 229.65, 204.0, 321.45, 315.0, 210.6, 194.85, 279.9, 238.95, 278.1, 251.7, 219.0, 293.4, 251.25, 274.35, 279.45, 294.9, 231.75, 267.0, 245.85, 364.8, 225.15, 211.35, 262.8, 294.6, 309.3, 267.15, 330.75, 358.65, 272.85, 301.35, 186.3, 310.05, 224.1, 288.15, 237.6, 240.3, 269.7, 290.1, 273.75, 292.5, 333.6, 329.1, 286.2, 187.95, 309.3, 172.05, 233.85, 289.8, 320.55, 275.85, 190.2, 327.6, 242.4, 216.3, 224.1, 257.85, 301.95, 214.05, 189.0, 244.5, 369.3, 250.95, 290.4, 242.85, 211.65, 254.25, 328.65, 264.3, 318.45, 348.0, 318.0, 196.05, 318.45, 234.75, 227.25, 249.6, 300.6, 304.5, 170.55, 223.65, 214.65, 204.0, 209.55, 363.75, 267.75, 268.35, 224.25, 278.85, 223.8, 126.75, 262.35, 238.8, 275.55, 229.95, 251.55, 283.2, 243.3, 351.3, 239.85, 251.1, 313.35, 251.4, 273.15, 265.05, 275.7, 247.95, 269.85, 371.4, 274.8, 332.25, 223.2, 275.1, 306.6, 334.5, 320.4, 202.2, 282.6, 237.3, 282.15, 319.2, 262.95, 270.75, 289.35, 188.1, 332.55, 192.75, 238.8, 144.45, 288.15, 188.85, 218.25, 311.55, 318.45, 199.5, 341.1, 226.65, 233.1, 297.0, 333.75, 234.0, 358.65, 248.7, 275.25, 315.15, 255.9, 249.6, 278.1, 235.2, 285.3, 294.9, 235.2, 299.55, 325.8, 218.55, 392.85, 237.9, 300.6, 210.3, 326.25, 177.15, 234.75, 258.0, 267.75, 233.85, 268.5, 274.8, 307.5, 240.9, 305.1, 264.75, 209.55, 259.5, 329.4, 181.95, 173.1, 192.45, 319.05, 230.25, 206.25, 256.95, 269.1, 266.25, 252.3, 201.3, 201.6, 234.15, 321.3, 202.35, 200.85, 221.55, 262.5, 267.9, 290.55, 286.8, 176.55, 253.95, 259.35, 379.8, 185.1, 274.8, 200.4, 321.6, 287.4, 306.15, 298.5, 257.7, 260.55, 298.65, 286.05, 232.8, 216.45, 310.65, 283.2, 250.8, 303.75, 330.45, 298.8, 288.45, 243.45, 176.85, 280.05, 269.7, 260.7, 307.95, 309.9, 259.8, 243.45, 279.9, 240.15, 286.5, 326.55, 284.85, 287.4, 365.1, 306.45, 354.15, 248.4, 266.1, 262.35, 229.35, 225.45, 344.7, 260.7, 343.8, 174.15, 275.55, 376.8, 325.05, 205.65, 276.9, 240.3, 299.85, 344.4, 268.35, 225.0, 252.75, 265.35, 297.0, 224.1, 319.8, 287.55, 248.7, 293.7, 322.05, 300.75, 319.05, 311.4, 303.75, 258.75, 276.3, 373.95, 289.35, 187.5, 178.35, 271.65, 257.1, 170.7, 287.7, 217.2, 261.6, 274.8, 219.15, 298.8, 299.55, 188.55, 271.8, 296.25, 366.0, 263.4, 344.55, 250.8, 224.25, 233.4, 283.05, 244.35, 323.4, 190.8, 203.4, 296.25, 373.95, 303.15, 268.05, 251.25, 286.05, 257.7, 259.2, 281.55, 307.05, 266.55, 320.1, 244.35, 312.75, 298.5, 213.3, 221.55, 237.9, 231.15, 298.5, 344.55, 331.05, 286.95, 198.9, 297.75, 258.0, 250.65, 325.05, 262.2, 291.0, 225.6, 331.2, 322.2, 314.7, 259.5, 219.3, 277.95, 284.85, 267.0, 286.35, 231.0, 323.1, 250.5, 354.15, 238.35, 305.4, 295.8, 186.75, 229.5, 286.05, 202.8, 218.7, 309.75, 228.0, 279.75, 223.05, 317.55, 210.6, 237.9, 213.45, 324.6, 258.9, 249.3, 264.45, 233.25, 348.0, 363.3, 253.05, 222.0, 282.15, 278.4, 292.05, 247.35, 231.6, 273.45, 327.45, 262.8, 203.55, 305.4, 238.8, 286.05, 243.0, 246.75, 272.4, 205.65, 263.85, 330.15, 307.5, 313.65, 202.35, 235.95, 297.45, 212.1, 300.9, 303.3, 289.8, 250.95, 129.3, 311.4, 281.1, 366.3, 139.2, 268.2, 196.2, 350.25, 256.65, 258.9, 235.05, 211.8, 287.85, 239.55, 247.95, 277.95, 337.65, 217.5, 255.15, 230.25, 345.9, 328.8, 212.4, 310.95, 289.65, 343.2, 297.6, 355.2, 361.95, 276.15, 297.45, 302.1, 182.55, 214.8, 268.35, 245.85, 277.95, 274.35, 284.55, 248.4, 322.8, 267.9, 229.2, 243.15, 271.95, 219.0, 343.65, 251.25, 249.3, 278.1, 214.65, 276.15, 263.55, 238.2, 253.8, 167.55, 310.95, 237.6, 177.9, 244.95, 342.6, 210.15, 329.4, 248.85, 177.9, 306.0, 231.45, 342.0, 286.35, 208.05, 213.6, 256.65, 294.6, 346.8, 242.1, 412.2, 337.35, 313.2, 220.95, 322.95, 309.9, 211.65, 315.15, 314.4, 341.1, 225.75, 313.95, 349.95, 226.05, 267.9, 278.85, 279.75, 233.55, 266.7, 294.0, 270.45, 300.45, 243.6, 225.3, 247.95, 326.85, 258.0, 249.3, 307.35, 305.1, 213.3, 207.45, 228.9, 318.0, 300.9, 264.9, 246.9, 306.75, 222.45, 227.7, 224.7, 316.2, 314.55, 258.3, 203.1, 271.35, 300.0, 352.5, 237.75, 336.6, 275.1, 304.35, 227.55, 273.15, 341.7, 206.4, 251.85, 313.8, 251.1, 272.25, 315.6, 267.15, 281.7, 232.2, 217.2, 300.15, 241.95, 257.25, 292.2, 290.25, 309.15, 272.25, 220.5, 288.0, 332.55, 283.95, 233.85, 264.45, 238.2, 233.55, 162.9, 291.6, 376.2, 244.8, 296.85, 306.0, 291.6, 249.3, 229.65, 250.8, 271.95, 211.65, 277.65, 284.25, 287.4, 207.9, 298.95, 253.8, 323.4, 246.6, 264.6, 232.95, 270.45, 308.25, 277.5, 330.45, 249.6, 216.75, 214.05, 256.65, 168.9, 309.75, 336.15, 359.55, 219.0, 267.75, 331.95, 239.25, 309.75, 307.05, 337.65, 221.85, 212.4, 195.3, 264.6, 264.9, 183.9, 207.15, 279.9, 225.6, 221.1, 199.2, 310.5, 276.45, 217.05, 242.55, 312.75, 235.95, 336.45, 250.05, 211.2, 319.95, 152.25, 251.1, 251.85, 179.1, 274.65, 267.6, 164.55, 236.1, 216.3, 270.15, 247.05, 254.4, 227.7, 262.05, 309.6, 242.55, 257.85, 217.5, 304.05, 297.6, 265.65, 191.85, 260.1, 264.6, 230.25, 285.15, 335.55, 292.35, 173.1, 239.55, 238.2, 291.0, 296.4, 297.6, 303.15, 242.7, 237.75, 326.85, 241.2, 235.5, 318.75, 264.9, 327.9, 274.8, 259.05, 289.5, 288.15, 301.5, 305.55, 320.85, 298.8, 263.4, 251.1, 255.45, 228.75, 212.1, 204.75, 246.6, 211.95, 220.05, 205.95, 249.9, 266.55, 353.7, 283.65, 371.85, 205.05, 211.65, 346.2, 273.15, 180.3, 315.0, 262.35, 192.6, 202.8, 222.15, 280.35, 275.85, 279.0, 304.05, 328.65, 232.05, 242.55, 335.7, 290.1, 174.15, 366.6, 333.3, 211.35, 322.5, 371.1, 276.9, 336.45, 199.35, 258.0, 235.35, 253.35, 270.45, 233.55, 256.35, 237.6, 280.65, 316.05, 267.75, 299.7, 281.7, 362.55, 242.85, 220.8, 250.35, 252.15, 299.25, 244.35, 232.35, 365.25, 263.85, 306.45, 262.8, 291.6, 310.05, 193.65, 297.0, 291.0, 325.65, 263.7, 204.3, 308.25, 253.5, 275.1, 304.5, 313.95, 224.7, 265.95, 318.0, 330.6, 231.9, 263.85, 248.25, 301.65, 339.6, 239.4, 189.45, 244.8, 247.8, 300.15, 238.35, 238.35, 304.2, 250.35, 274.05, 308.25, 284.4, 233.25, 292.35, 275.7, 269.55, 258.45, 292.35, 300.3, 344.1, 362.25, 367.2, 202.35, 210.75, 306.9, 250.5, 309.0, 318.45, 207.15, 338.4, 342.0, 276.75, 347.7, 322.2, 328.2, 272.1, 311.55, 284.4, 293.55, 182.55, 299.25, 325.8, 252.3, 244.2, 257.55, 329.1, 252.15, 270.0, 268.05, 216.0, 257.4, 255.15, 364.2, 247.35, 258.9, 296.4, 355.65, 299.25, 272.7, 247.2, 292.8, 220.8, 290.7, 220.35, 292.05, 213.6, 299.85, 220.65, 175.65, 225.15, 216.6, 234.0, 345.3, 241.8, 282.6, 397.05, 334.05, 272.25, 270.45, 246.6, 229.2, 238.8, 254.55, 307.95, 278.25, 253.65, 314.85, 319.05, 300.75, 272.25, 214.95, 200.85, 309.15, 262.35, 284.25, 243.9, 274.5, 303.15, 302.55, 248.4, 327.9, 247.8, 284.25, 290.7, 267.9, 222.45, 195.0, 307.2, 202.65, 312.75, 294.9, 350.7, 299.4, 277.05, 317.7, 315.9, 259.35, 198.3, 230.55, 298.35, 347.25, 255.45, 302.7, 232.5, 170.1, 344.85, 322.35, 218.85, 224.85, 167.85, 303.0, 334.95, 324.45, 323.25, 373.5, 229.95, 217.95, 284.25, 318.15, 308.4, 224.85, 299.7, 204.15, 190.35, 273.3, 209.7, 232.65, 116.25, 369.15, 311.4, 268.65, 224.1, 318.6, 341.85, 310.05, 333.9, 245.7, 269.25, 226.65, 278.7, 300.9, 252.9, 267.75, 275.85, 273.9, 312.0, 268.65, 231.15, 285.45, 417.6, 184.35, 224.1, 282.75, 265.5, 223.65, 256.35, 220.95, 361.35, 293.25, 234.15, 240.3, 291.3, 285.3, 288.0, 260.1, 228.15, 236.1, 317.7, 309.15, 287.4, 220.8, 230.55, 274.05, 292.8, 283.5, 222.3, 337.65, 220.65, 225.0, 262.95, 238.8, 252.45, 259.2, 280.2, 219.0, 301.35, 210.15, 231.0, 251.1, 366.6, 241.05, 242.85, 196.65, 206.55, 232.2, 227.55, 304.05, 224.55, 286.95, 271.5, 365.4, 233.7, 249.45, 197.25, 346.2, 276.15, 292.5, 269.4, 336.75, 212.85, 220.95, 337.95, 203.85, 206.85, 290.7, 310.95, 308.1, 299.25, 288.15, 259.35, 311.7, 275.85, 215.25, 274.5, 248.4, 289.95, 322.05, 291.3, 222.45, 288.3, 290.55, 208.5, 225.75, 229.65, 287.7, 184.05, 265.5, 238.5, 291.0, 268.05, 252.9, 238.8, 206.85, 312.45, 339.9, 288.9, 337.35, 346.95, 219.6, 242.85, 386.1, 312.15, 289.05, 286.5, 321.45, 306.6, 261.45, 303.9, 317.4, 278.55, 242.25, 355.2, 204.15, 243.6, 319.05, 266.7, 321.9, 254.25, 248.4, 288.3, 266.85, 287.85, 314.4, 235.2, 236.7, 185.7, 205.2, 357.0, 280.2, 324.15, 284.55, 223.95, 268.65, 199.2, 235.65, 262.35, 198.9, 237.75, 285.45, 283.65, 244.2, 252.45, 264.45, 230.85, 388.95, 357.9, 361.5, 298.5, 310.35, 307.95, 335.25, 309.0, 246.3, 206.25, 285.45, 359.7, 159.3, 351.9, 233.7, 271.95, 302.25, 265.5, 346.5, 229.8, 265.2, 343.95, 274.5, 267.45, 222.0, 247.95, 194.55, 244.65, 207.3, 345.0, 241.8, 320.1, 253.35, 235.5, 245.85, 193.65, 232.35, 290.1, 242.7, 288.3, 288.3, 334.2, 266.1, 262.95, 391.8, 282.3, 203.25, 319.8, 255.6, 291.3, 249.0, 269.7, 283.2, 192.15, 278.4, 249.6, 287.25, 243.6, 320.55, 268.5, 190.8, 267.3, 295.8, 273.6, 291.15, 236.85, 244.8, 320.4, 288.3, 355.2, 221.4, 329.7, 361.35, 216.9, 177.6, 247.05, 264.0, 304.35, 267.0, 267.15, 252.3, 244.35, 259.8, 310.05, 323.4, 257.1, 295.65, 348.15, 243.75, 212.85, 268.2, 332.4, 277.5, 203.4, 333.75, 308.85, 262.8, 187.8, 299.4, 243.3, 229.35, 215.4, 286.8, 244.95, 295.2, 298.8, 223.8, 256.35, 187.65, 266.25, 348.0, 324.45, 187.35, 329.4, 284.25, 188.55, 273.6, 280.2, 182.25, 302.1, 304.8, 171.6, 317.85, 264.0, 298.95, 367.95, 242.55, 178.5, 201.6, 264.45, 241.35, 236.7, 288.3, 267.0, 247.8, 289.65, 231.3, 231.0, 288.6, 282.0, 251.55, 252.15, 296.7, 252.75, 233.7, 297.0, 246.6, 230.55, 306.9, 254.7, 313.2, 253.05, 254.55, 233.85, 309.3, 278.7, 379.8, 278.85, 237.3, 275.85, 268.2, 210.15, 280.5, 237.0, 230.4, 290.4, 166.95, 253.65, 265.2, 345.45, 276.75, 283.2, 275.25, 339.6, 222.6, 204.45, 273.0, 235.5, 223.5, 305.25, 242.25, 370.35, 158.1, 266.55, 334.05, 275.55, 399.45, 195.6, 317.1, 295.65, 220.2, 260.7, 332.1, 275.55, 225.6, 166.95, 291.3, 292.35, 290.25, 246.3, 310.8, 278.7, 233.55, 335.55, 328.05, 246.0, 219.75, 261.0, 253.2, 287.85, 267.9, 283.65, 256.65, 237.75, 269.25, 318.0, 227.85, 360.3, 281.25, 246.3, 321.75, 282.0, 224.1, 230.55, 203.7, 301.2, 405.75, 313.8, 271.2, 305.85, 320.7, 242.1, 275.4, 300.15, 313.35, 288.15, 288.0, 244.35, 357.9, 298.05, 325.35, 220.2, 276.9, 268.8, 254.4, 233.7, 282.45, 230.85, 319.05, 327.0, 271.95, 310.95, 248.85, 269.55, 255.75, 316.95, 248.55, 283.2, 181.8, 318.9, 346.5, 306.0, 228.0, 301.8, 268.5, 256.5, 280.65, 234.6, 265.5, 204.0, 294.0, 259.35, 364.35, 165.6, 285.15, 351.45, 207.75, 289.05, 283.65, 168.3, 287.25, 256.8, 261.3, 251.85, 208.95, 246.15, 267.6, 210.15, 190.05, 290.4, 304.2, 316.35, 218.4, 366.9, 370.35, 279.0, 258.6, 289.5, 251.25, 284.25, 263.85, 248.7, 280.35, 191.25, 244.05, 312.6, 288.3, 280.2, 257.4, 341.1, 290.1, 313.2, 264.0, 273.9, 217.35, 337.35, 350.55, 212.1, 209.55, 273.75, 423.9, 277.35, 202.5, 253.8, 293.1, 317.7, 278.25, 274.95, 232.2, 322.65, 260.1, 328.95, 198.3, 259.35, 298.35, 253.5, 186.3, 321.3, 282.9, 284.7, 277.8, 242.25, 288.6, 208.35, 280.95, 266.55, 247.35, 238.8, 281.1, 282.15, 217.5, 260.4, 246.6, 216.3, 325.8, 219.75, 163.05, 262.5, 244.8, 280.5, 315.75, 257.55, 211.5, 242.7, 283.5, 349.05, 282.45, 268.35, 276.9, 246.6, 297.45, 264.9, 258.0, 262.8, 213.0, 248.4, 313.8, 263.4, 270.6, 297.3, 300.45, 282.3, 285.15, 282.3, 272.1, 232.5, 177.15, 306.45, 259.05, 228.45, 318.6, 276.6, 266.55, 347.55, 260.1, 300.45, 274.05, 367.65, 237.75, 328.35, 280.8, 285.3, 284.25, 251.1, 154.65, 258.45, 276.0, 255.45, 295.95, 276.45, 269.55, 284.85, 236.4, 288.45, 247.5, 233.4, 281.7, 232.35, 250.8, 235.35, 347.4, 343.2, 200.4, 211.5, 290.25, 206.1, 255.3, 250.8, 248.1, 273.9, 234.75, 258.6, 274.2, 266.55, 278.25, 253.2, 237.3, 312.6, 268.2, 255.6, 311.1, 299.7, 184.2, 260.7, 322.05, 330.0, 289.5, 210.15, 268.95, 330.15, 297.15, 272.85, 316.95, 223.05, 297.6, 272.4, 282.3, 203.85, 300.45, 282.15, 258.0, 234.45, 282.15, 176.1, 265.95, 301.05, 327.45, 258.75, 204.75, 201.15, 286.95, 243.75, 341.25, 217.65, 256.2, 259.5, 317.85, 223.95, 301.35, 264.6, 289.5, 163.35, 207.9, 239.4, 282.45, 318.45, 236.4, 181.5, 249.9, 328.05, 301.5, 289.8, 285.3, 304.5, 334.35, 329.4, 344.25, 250.35, 265.2, 228.0, 168.0, 234.75, 264.45, 261.9, 269.55, 309.45, 264.0, 207.6, 206.7, 232.5, 221.4, 208.5, 340.35, 239.55, 330.15, 324.9, 247.5, 294.15, 208.05, 327.0, 218.25, 286.05, 265.5, 254.1, 304.95, 289.65, 198.45, 293.1, 259.5, 321.9, 313.35, 249.0, 258.0, 219.45, 186.3, 263.1, 302.1, 320.25, 230.7, 242.25, 261.0, 304.2, 206.55, 278.1, 277.65, 282.6, 198.0, 175.95, 255.6, 274.05, 239.25, 211.35, 255.75, 237.0, 252.0, 293.85, 252.45, 310.2, 356.7, 231.6, 264.6, 263.4, 188.7, 227.85, 255.0, 232.8, 322.8, 234.75, 313.35, 233.25, 266.25, 299.85, 336.3, 273.45, 297.0, 317.7, 303.6, 306.0, 225.75, 240.15, 315.0, 238.8, 316.05, 282.75, 238.95, 188.1, 276.3, 233.4, 356.1, 347.55, 302.85, 191.25, 195.6, 277.05, 220.35, 242.25, 290.85, 298.95, 240.0, 209.7, 231.0, 331.95, 251.4, 219.75, 201.0, 245.1, 243.3, 278.25, 269.55, 285.45, 294.3, 349.2, 261.75, 236.55, 254.4, 323.4, 224.85, 279.3, 305.7, 285.9, 294.6, 314.7, 265.65, 251.7, 180.0, 292.95, 322.05, 225.45, 203.25, 288.9, 300.9, 324.75, 208.65, 304.65, 216.3, 263.7, 253.5, 288.6, 254.85, 385.65, 220.8, 325.65, 337.95, 202.5, 253.2, 243.45, 199.35, 251.4, 276.75, 265.65, 232.35, 351.0, 296.7, 295.35, 234.9, 292.95, 247.05, 334.65, 258.75, 289.2, 247.65, 233.55, 220.8, 295.8, 380.85, 272.85, 290.1, 307.05, 358.65, 339.0, 206.4, 294.75, 252.3, 239.1, 223.2, 298.35, 283.2, 255.45, 308.7, 179.85, 327.6, 236.1, 243.6, 327.3, 219.0, 325.8, 276.0, 225.45, 228.9, 300.9, 291.3, 233.85, 207.3, 315.6, 234.9, 343.05, 263.7, 348.3, 312.6, 242.4, 249.0, 262.95, 306.75, 265.35, 233.85, 238.8, 237.6, 321.9, 267.3, 192.45, 386.4, 175.65, 265.2, 263.4, 310.35, 209.85, 262.8, 199.05, 349.05, 255.75, 260.4, 301.65, 209.55, 198.3, 330.6, 323.1, 274.95, 215.25, 302.7, 265.8, 407.85, 251.7, 262.95, 229.35, 331.05, 246.45, 253.35, 361.05, 274.8, 283.35, 266.4, 258.75, 241.05, 289.8, 232.65, 318.0, 294.15, 312.15, 323.1, 247.05, 243.6, 258.6, 249.3, 290.85, 275.25, 181.2, 178.8, 278.7, 215.4, 264.15, 247.65, 276.45, 237.9, 329.7, 326.55, 290.25, 262.8, 314.25, 249.15, 270.3, 290.85, 273.3, 232.8, 236.1, 262.35, 331.65, 334.8, 279.45, 317.4, 240.75, 298.95, 166.2, 295.8, 316.35, 260.55, 256.65, 207.45, 317.1, 175.2, 269.25, 274.8, 350.1, 216.45, 379.35, 223.8, 250.35, 281.85, 238.8, 286.05, 254.4, 216.15, 284.85, 244.95, 328.2, 184.8, 285.75, 245.25, 196.35, 224.85, 309.75, 267.45, 307.95, 269.85, 306.45, 318.45, 281.1, 225.3, 193.05, 332.85, 333.3, 292.8, 204.6, 268.05, 204.0, 204.6, 318.3, 254.4, 283.35, 235.2, 381.45, 231.9, 296.25, 304.8, 237.75, 306.0, 233.4, 313.05, 173.1, 265.2, 252.45, 232.8, 252.45, 291.15, 197.4, 335.55, 270.15, 275.55, 285.0, 276.3, 259.35, 241.5, 269.55, 192.75, 204.75, 264.45, 206.25, 220.05, 329.7, 308.4, 241.65, 292.2, 295.5, 239.25, 338.7, 290.85, 318.45, 207.45, 284.7, 232.35, 168.0, 207.45, 279.3, 297.75, 361.5, 284.85, 283.5, 270.6, 316.65, 287.1, 321.15, 277.8, 297.3, 272.25, 300.3, 296.55, 284.55, 257.1, 306.15, 295.8, 286.05, 259.2, 182.25, 180.15, 238.65, 201.45, 285.75, 344.85, 267.6, 259.95, 240.75, 145.05, 241.2, 200.7, 209.25, 347.4, 190.95, 282.6, 399.15, 315.3, 301.05, 203.4, 245.85, 264.15, 311.7, 235.8, 306.6, 206.55, 294.9, 279.6, 237.3, 267.3, 187.65, 325.05, 217.35, 253.05, 265.95, 256.05, 243.45, 240.0, 272.1, 212.25, 196.35, 275.55, 347.85, 336.75, 190.2, 243.75, 330.3, 292.65, 295.05, 290.85, 256.95, 189.3, 277.5, 280.05, 188.4, 227.55, 285.6, 240.0, 286.5, 334.2, 303.3, 230.55, 299.4, 275.85, 276.9, 297.75, 275.1, 166.65, 297.3, 313.5, 288.3, 210.3, 277.8, 215.85, 264.0, 289.05, 280.8, 237.0, 274.8, 268.05, 217.8, 367.65, 260.7, 281.85, 253.95, 273.9, 232.35, 333.3, 271.95, 148.5, 279.6, 223.35, 271.65, 308.85, 329.4, 223.65, 271.05, 384.15, 297.9, 367.65, 234.6, 293.25, 287.7, 263.55, 271.8, 218.7, 220.65, 326.4, 293.7, 202.2, 214.05, 274.5, 270.45, 256.65, 280.35, 255.75, 270.15, 234.15, 266.4, 242.25, 288.9, 291.3, 273.75, 282.6, 323.1, 225.6, 221.4, 209.85, 344.4, 193.65, 288.3, 271.5, 318.0, 297.3, 258.9, 265.95, 293.25, 236.85, 330.3, 236.1, 192.9, 276.0, 336.45, 265.8, 275.4, 232.5, 232.2, 207.3, 271.35, 247.05, 287.1, 309.0, 220.8, 247.35, 234.45, 299.55, 355.05, 303.9, 352.35, 268.65, 197.7, 292.5, 343.8, 259.65, 212.4, 243.9, 177.0, 297.6, 314.55, 343.35, 297.75, 224.7, 298.5, 277.05, 324.45, 330.6, 250.2, 235.5, 249.75, 227.55, 277.95, 320.1, 230.7, 205.5, 256.95, 304.35, 280.5, 250.8, 255.9, 270.75, 285.9, 232.2, 285.15, 217.65, 199.5, 274.35, 270.45, 276.75, 217.05, 267.0, 236.7, 236.25, 389.55, 222.6, 315.3, 270.9, 278.1, 246.15, 320.25, 235.8, 202.65, 238.8, 287.25, 357.3, 341.4, 273.75, 251.1, 340.5, 261.3, 281.25, 306.75, 327.75, 270.3, 274.35, 268.65, 175.05, 346.5, 297.0, 272.4, 313.05, 351.75, 253.8, 277.05, 291.9, 250.5, 293.7, 328.8, 294.75, 290.85, 239.55, 213.9, 330.6, 269.1, 244.8, 273.45, 179.1, 272.1, 268.05, 256.8, 279.3, 246.45, 228.15, 295.95, 231.6, 211.2, 251.7, 247.05, 239.25, 217.65, 235.2, 190.35, 273.45, 276.45, 276.9, 212.55, 263.25, 310.2, 237.0, 381.3, 203.25, 396.45, 227.1, 274.65, 250.95, 235.35, 245.25, 195.15, 197.1, 247.05, 226.95, 243.15, 285.3, 247.65, 281.25, 208.5, 216.0, 291.0, 339.9, 264.15, 263.1, 307.05, 264.6, 299.1, 267.3, 174.0, 229.95, 274.2, 322.8, 279.9, 235.5, 239.55, 295.05, 254.55, 259.95, 272.25, 243.9, 227.1, 279.3, 229.65, 318.9, 313.35, 220.35, 246.6, 196.65, 298.5, 271.95, 250.2, 307.65, 288.15, 297.75, 336.15, 245.7, 225.15, 387.15, 302.7, 279.15, 236.55, 310.8, 231.3, 258.0, 311.7, 243.9, 192.0, 252.75, 279.6, 331.8, 293.55, 217.2, 293.25, 318.15, 201.75, 250.95, 237.9, 291.6, 310.05, 196.95, 242.85, 311.85, 249.75, 324.6, 160.65, 354.15, 272.1, 279.15, 266.1, 291.0, 304.2, 330.0, 243.15, 295.35, 277.05, 382.95, 192.9, 222.0, 329.55, 353.1, 209.55, 317.1, 249.9, 280.65, 354.3, 234.45, 231.15, 221.1, 240.75, 202.5, 262.65, 285.0, 275.4, 300.75, 240.3, 282.9, 318.0, 388.2, 259.2, 298.35, 209.85, 310.35, 301.5, 268.65, 250.95, 289.65, 249.45, 246.45, 266.25, 238.8, 262.5, 379.2, 322.95, 291.75, 357.15, 205.8, 286.05, 282.15, 202.65, 289.95, 217.65, 249.75, 250.05, 199.8, 261.9, 301.05, 252.75, 310.65, 203.4, 241.05, 329.25, 295.5, 301.65, 311.25, 395.7, 186.9, 321.9, 271.95, 256.35, 229.05, 311.85, 219.75, 242.55, 319.65, 248.55, 264.9, 259.2, 240.0, 216.3, 268.95, 250.05, 263.7, 311.25, 247.05, 327.0, 342.45, 327.6, 322.5, 269.4, 310.2, 264.75, 256.35, 259.35, 235.35, 235.5, 295.2, 270.6, 317.1, 315.75, 353.4, 290.85, 311.4, 311.85, 308.4, 245.4, 198.3, 282.9, 278.4, 147.9, 375.75, 245.1, 247.5, 208.8, 328.65, 296.4, 249.15, 342.45, 282.75, 260.25, 307.95, 305.1, 198.9, 246.9, 220.95, 311.25, 218.1, 250.2, 339.15, 277.05, 333.6, 349.5, 290.7, 247.95, 218.4, 294.9, 246.45, 334.8, 281.85, 247.2, 280.2, 193.35, 265.65, 325.05, 227.55, 236.4, 235.2, 327.75, 259.5, 282.3, 292.05, 233.25, 181.05, 355.2, 266.7, 239.85, 240.0, 193.35, 338.4, 205.05, 219.0, 245.1, 273.45, 158.25, 261.75, 293.85, 196.05, 233.7, 198.3, 355.05, 240.6, 247.8, 267.9, 288.45, 211.35, 286.8, 221.85, 171.75, 284.55, 307.05, 288.0, 270.9, 284.7, 356.7, 238.05, 203.7, 301.8, 286.8, 272.55, 278.55, 311.25, 291.75, 290.1, 257.25, 240.6, 175.95, 206.7, 276.75, 213.45, 268.35, 202.2, 270.3, 296.4, 319.65, 298.5, 229.8, 295.95, 295.05, 273.75, 192.3, 255.15, 340.05, 297.0, 200.4, 237.6, 229.95, 327.75, 316.35, 277.95, 241.5, 370.5, 204.15, 271.35, 355.65, 239.25, 330.45, 271.95, 267.75, 265.65, 255.6, 258.0, 312.15, 281.4, 298.5, 343.65, 325.8, 282.45, 251.85, 251.7, 284.1, 207.75, 272.55, 236.7, 265.5, 206.85, 242.4, 316.95, 335.55, 253.65, 340.95, 205.05, 231.0, 318.15, 263.25, 170.85, 247.5, 295.65, 191.55, 288.75, 236.1, 280.35, 235.5, 185.7, 323.55, 359.85, 285.9, 219.75, 231.9, 173.4, 298.5, 181.95, 264.6, 291.45, 248.1, 236.4, 300.0, 252.75, 187.65, 264.6, 260.7, 283.5, 263.1, 247.35, 334.5, 306.15, 184.5, 181.95, 222.6, 245.25, 215.7, 227.4, 335.25, 240.0, 337.35, 241.5, 350.85, 281.1, 270.0, 260.55, 354.45, 329.25, 178.35, 298.05, 288.15, 244.8, 310.05, 259.8, 264.15, 327.9, 306.0, 303.6, 286.95, 315.9, 219.45, 216.9, 314.4, 293.4, 241.05, 293.1, 339.6, 184.35, 314.85, 280.8, 194.4, 309.45, 291.6, 206.4, 235.35, 223.05, 245.25, 298.05, 248.1, 304.05, 251.25, 254.25, 288.75, 226.95, 275.25, 226.2, 229.35, 349.8, 275.85, 232.8, 194.25, 246.9, 199.35, 335.7, 230.25, 228.3, 298.35, 208.2, 303.15, 268.05, 255.75, 266.85, 240.45, 266.7, 276.9, 226.65, 260.25, 283.95, 225.0, 246.45, 226.05, 205.8, 297.45, 221.85, 204.9, 273.15, 266.4, 259.8, 279.75, 307.35, 274.5, 278.1, 295.05, 194.85, 290.25, 263.85, 304.2, 258.75, 230.25, 258.3, 328.8, 213.15, 234.9, 277.2, 253.8, 222.6, 210.6, 295.95, 250.95, 219.45, 176.85, 267.15, 200.25, 198.6, 252.9, 214.95, 246.9, 303.15, 338.4, 231.3, 292.95, 320.55, 217.5, 194.25, 334.65, 271.2, 232.95, 259.2, 297.6, 216.3, 244.8, 283.2, 243.0, 219.3, 432.75, 349.05, 301.2, 209.1, 218.55, 188.85, 276.6, 201.6, 294.15, 188.1, 262.8, 286.65, 332.25, 304.35, 280.95, 199.05, 197.7, 293.55, 287.55, 293.4, 292.05, 246.9, 275.7, 260.4, 306.3, 323.1, 231.0, 269.1, 294.3, 301.2, 152.7, 268.8, 248.55, 243.0, 297.9, 273.45, 228.6, 298.35, 180.45, 212.55, 264.15, 298.05, 176.7, 256.2, 340.05, 357.9, 260.7, 278.4, 286.05, 259.8, 202.2, 341.85, 308.25, 271.05, 264.0, 340.8, 328.95, 309.15, 240.75, 178.5, 337.95, 310.05, 237.0, 202.5, 271.65, 248.1, 215.4, 358.35, 193.35, 295.05, 309.75, 238.35, 231.3, 189.0, 255.3, 335.1, 244.5, 334.95, 246.15, 305.25, 278.1, 193.5, 297.9, 296.7, 313.5, 246.45, 318.3, 245.25, 304.5, 297.6, 247.2, 258.6, 224.1, 326.55, 235.2, 393.6, 274.05, 251.55, 238.05, 290.7, 289.95, 239.1, 279.0, 289.8, 217.2, 302.85, 272.55, 192.0, 201.9, 277.95, 201.45, 267.6, 218.55, 219.0, 344.25, 380.7, 245.1, 353.85, 204.75, 350.25, 248.7, 223.05, 248.7, 229.8, 261.45, 286.8, 192.6, 230.55, 320.4, 244.8, 288.6, 330.6, 282.75, 214.2, 247.05, 292.5, 221.7, 206.1, 264.0, 335.85, 292.95, 276.45, 272.55, 227.85, 285.3, 281.55, 274.95, 331.8, 243.45, 351.15, 309.6, 247.5, 231.15, 248.1, 202.35, 199.65, 261.45, 186.9, 251.1, 274.65, 248.85, 274.65, 294.9, 301.05, 240.6, 253.05, 255.6, 249.6, 230.85, 292.2, 274.8, 289.95, 237.3, 307.2, 341.4, 254.55, 198.75, 155.7, 249.45, 304.65, 206.7, 236.85, 333.15, 266.1, 298.65, 274.5, 332.85, 267.45, 191.1, 302.85, 339.45, 240.9, 220.65, 263.4, 286.05, 299.1, 306.45, 208.5, 267.75, 333.75, 356.4, 298.2, 281.4, 342.3, 278.4, 185.7, 269.4, 348.75, 228.9, 210.15, 191.25, 318.45, 302.85, 236.55, 293.25, 202.35, 217.8, 279.45, 249.6, 337.8, 271.95, 249.9, 307.5, 183.3, 246.9, 299.85, 224.85, 296.55, 191.1, 245.7, 288.6, 240.45, 249.15, 340.2, 260.25, 275.25, 289.65, 233.1, 232.35, 268.8, 325.8, 353.4, 223.65, 336.45, 244.5, 302.7, 292.95, 247.35, 205.8, 303.0, 215.1, 251.7, 265.5, 214.05, 349.8, 219.3, 278.4, 277.5, 259.35, 296.4, 253.2, 255.0, 149.85, 200.1, 224.85, 287.7, 348.0, 297.15, 311.1, 261.3, 279.3, 304.05, 251.1, 252.15, 282.3, 279.3, 291.9, 200.1, 264.3, 266.25, 187.8, 262.2, 177.45, 288.3, 276.75, 313.65, 258.6, 278.55, 290.85, 198.45, 306.45, 231.9, 222.9, 256.5, 299.7, 258.0, 278.25, 212.25, 238.8, 288.0, 276.45, 316.65, 324.9, 246.45, 229.05, 201.15, 191.55, 259.05, 304.2, 337.8, 229.35, 310.65, 288.0, 249.9, 216.6, 457.35, 300.75, 255.6, 232.95, 312.45, 297.45, 256.5, 314.25, 275.85, 227.7, 270.0, 283.05, 303.9, 248.55, 185.55, 273.45, 332.7, 285.45, 343.35, 243.0, 200.25, 303.3, 280.35, 307.35, 264.0, 238.65, 238.5, 217.8, 282.6, 269.85, 192.45, 211.65, 305.7, 264.45, 249.45, 370.8, 276.3, 200.85, 327.0, 287.4, 237.3, 351.75, 351.6, 245.85, 222.0, 280.95, 294.6, 243.9, 251.4, 265.5, 219.6, 201.75, 225.9, 152.55, 251.25, 314.7, 289.5, 318.15, 283.65, 336.9, 321.15, 359.85, 288.3, 230.4, 251.7, 282.3, 303.6, 185.1, 287.7, 237.3, 286.8, 306.9, 264.9, 278.1, 356.4, 345.0, 245.7, 328.65, 298.35, 268.5, 204.6, 333.6, 329.4, 241.8, 321.6, 263.4, 209.4, 207.45, 232.65, 288.0, 276.9, 267.15, 247.5, 262.95, 221.85, 262.05, 326.1, 306.0, 309.15, 190.35, 253.65, 279.6, 228.75, 318.6, 248.1, 262.95, 280.35, 294.9, 249.6, 191.85, 301.2, 183.6, 299.55, 267.75, 228.9, 233.25, 224.55, 211.2, 342.15, 338.85, 276.6, 301.95, 199.35, 323.7, 230.25, 283.2, 227.1, 180.3, 258.0, 253.35, 248.85, 269.25, 371.55, 230.7, 269.1, 262.8, 306.3, 180.45, 252.15, 193.95, 266.4, 220.8, 296.25, 222.15, 267.45, 230.55, 339.6, 270.45, 371.25, 384.3, 223.95, 259.5, 249.15, 294.6, 252.75, 315.15, 315.0, 240.6, 200.4, 285.9, 225.9, 238.2, 224.55, 270.15, 258.3, 198.75, 216.6, 231.15, 256.5, 352.95, 400.2, 250.65, 175.35, 293.4, 223.65, 334.65, 258.9, 289.2, 218.55, 301.05, 234.0, 254.7, 260.25, 211.65, 299.55, 257.7, 224.25, 346.65, 240.15, 278.25, 226.35, 293.1, 299.4, 328.2, 226.8, 312.0, 333.15, 222.75, 232.35, 246.75, 226.95, 272.7, 229.65, 255.75, 194.4, 258.45, 259.95, 273.3, 244.65, 319.95, 304.05, 317.85, 205.8, 288.6, 235.65, 281.1, 289.95, 283.65, 276.45, 306.45, 185.7, 237.75, 276.15, 263.55, 337.95, 288.0, 276.75, 207.9, 248.25, 207.75, 260.1, 347.55, 238.65, 229.35, 289.5, 310.35, 248.4, 252.9, 292.35, 224.25, 247.2, 309.6, 297.9, 281.4, 275.1, 208.35, 216.6, 282.15, 392.25, 276.6, 361.65, 356.7, 234.75, 279.75, 381.45, 321.0, 182.1, 240.9, 256.65, 370.2, 282.0, 175.2, 293.7, 276.9, 225.6, 308.25, 252.45, 333.9, 264.0, 250.8, 259.95, 327.6, 306.0, 265.5, 269.85, 224.55, 236.1, 289.5, 252.45, 237.75, 298.2, 309.0, 222.3, 247.35, 261.45, 361.95, 291.15, 289.05, 208.35, 270.6, 305.1, 237.45, 303.9, 259.5, 285.0, 256.65, 237.45, 294.3, 268.5, 231.9, 255.75, 288.3, 273.6, 240.3, 263.55, 328.05, 311.1, 203.25, 262.65, 270.45, 277.8, 302.1, 283.5, 261.45, 245.85, 204.0, 216.15, 277.65, 292.2, 262.8, 251.1, 384.45, 318.15, 221.55, 401.55, 293.55, 250.65, 236.25, 198.45, 265.5, 277.8, 205.5, 228.75, 206.85, 299.4, 195.3, 267.3, 172.65, 247.8, 223.5, 268.65, 211.95, 244.65, 223.95, 241.35, 335.25, 261.6, 245.1, 338.4, 215.55, 277.5, 321.15, 172.35, 277.05, 295.05, 343.5, 233.1, 333.15, 174.45, 303.15, 289.2, 253.05, 227.55, 336.3, 292.65, 230.85, 289.2, 197.25, 200.4, 246.75, 283.2, 230.55, 208.5, 268.05, 254.85, 311.7, 231.0, 162.6, 241.65, 212.7, 287.4, 292.5, 222.6, 284.7, 300.3, 198.6, 272.25, 242.25, 238.05, 273.6, 258.45, 229.35, 288.45, 322.35, 108.0, 229.05, 249.0, 293.55, 251.85, 258.45, 295.8, 240.6, 265.8, 241.95, 256.8, 304.35, 228.0, 266.4, 275.7, 215.25, 254.4, 255.15, 282.6, 322.2, 281.25, 292.5, 194.25, 171.15, 226.35, 218.55, 274.8, 296.25, 244.8, 195.3, 329.55, 267.15, 239.25, 364.65, 322.5, 308.7, 237.15, 241.65, 268.95, 284.55, 236.7, 337.2, 277.2, 169.8, 251.4, 268.5, 201.9, 266.1, 274.05, 346.65, 298.35, 310.8, 262.05, 292.05, 254.25, 222.0, 261.6, 312.0, 317.1, 285.15, 301.35, 262.2, 296.1, 348.3, 318.0, 301.8, 324.6, 220.65, 258.3, 307.8, 206.4, 266.4, 285.75, 294.75, 350.4, 326.1, 268.95, 326.4, 204.0, 192.75, 240.9, 285.0, 224.1, 246.9, 275.55, 280.35, 276.6, 288.75, 263.7, 255.15, 324.0, 263.7, 369.6, 255.15, 232.35, 227.7, 224.55, 361.5, 330.0, 264.75, 247.05, 269.25, 286.95, 292.95, 268.5, 253.05, 241.95, 216.75, 245.7, 273.45, 239.7, 255.15, 282.3, 348.9, 265.8, 308.7, 247.95, 255.0, 334.65, 332.85, 267.45, 289.65, 272.7, 240.15, 252.45, 249.15, 257.1, 278.25, 262.65, 265.35, 229.2, 269.55, 282.6, 227.85, 309.15, 307.35, 237.3, 354.3, 278.1, 258.6, 232.8, 336.75, 297.75, 301.35, 225.3, 263.7, 204.75, 291.6, 222.75, 224.55, 300.45, 252.45, 210.0, 318.9, 343.5, 320.25, 344.1, 247.5, 372.45, 299.25, 333.15, 270.0, 265.5, 326.25, 283.2, 255.0, 330.3, 225.3, 314.4, 203.55, 271.35, 275.25, 186.75, 364.65, 292.35, 305.85, 276.3, 314.1, 188.25, 279.15, 197.1, 277.05, 232.8, 260.4, 309.15, 233.1, 296.55, 249.9, 169.05, 310.05, 240.9, 307.5, 293.85, 229.95, 276.9, 350.25, 270.75, 224.7, 273.75, 274.35, 341.1, 258.75, 239.1, 245.85, 256.35, 293.1, 220.5, 258.45, 252.45, 287.55, 316.05, 199.05, 290.55, 195.45, 332.7, 240.45, 225.6, 248.85, 349.2, 322.2, 221.4, 265.2, 322.95, 356.55, 203.85, 274.35, 308.7, 344.7, 315.15, 299.25, 375.15, 326.7, 270.45, 241.5, 270.6, 239.1, 231.9, 254.4, 232.65, 295.2, 309.3, 326.1, 255.15, 282.75, 242.4, 250.35, 289.95, 252.0, 246.3, 279.9, 268.2, 234.6, 340.05, 306.9, 241.8, 280.65, 193.65, 336.45, 188.25, 267.9, 247.95, 233.1, 257.4, 304.65, 334.05, 350.1, 252.9, 368.1, 283.05, 261.9, 342.75, 243.0, 279.45, 358.35, 257.55, 435.45, 229.8, 306.45, 232.95, 253.35, 310.5, 217.2, 227.4, 264.9, 212.7, 264.0, 220.35, 278.55, 320.85, 240.45, 325.8, 229.05, 285.15, 287.4, 277.95, 237.75, 217.05, 317.4, 353.7, 263.1, 348.75, 274.2, 234.6, 242.4, 211.35, 248.1, 325.35, 240.75, 226.05, 291.9, 269.85, 300.45, 276.45, 228.0, 247.35, 282.45, 229.05, 279.6, 369.6, 320.7, 294.0, 326.25, 274.8, 294.6, 224.1, 271.65, 340.8, 266.7, 315.15, 198.45, 291.15, 225.45, 259.35, 280.2, 261.0, 159.75, 311.55, 352.35, 210.9, 299.4, 191.25, 258.0, 420.45, 216.9, 177.6, 245.4, 285.9, 287.55, 280.05, 288.0, 346.95, 209.4, 240.45, 258.9, 212.7, 207.9, 242.85, 289.05, 353.55, 277.65, 259.35, 343.5, 270.9, 233.25, 327.6, 265.95, 254.25, 269.7, 222.75, 267.0, 210.6, 272.55, 266.85, 292.2, 191.85, 239.25, 240.75, 191.25, 300.6, 247.8, 317.4, 274.65, 291.45, 241.95, 329.7, 154.8, 271.65, 307.65, 305.25, 327.0, 283.5, 318.75, 263.4, 278.85, 257.55, 178.8, 279.15, 248.7, 225.6, 256.2, 241.2, 197.7, 243.45, 244.05, 267.9, 292.95, 309.9, 240.3, 305.1, 244.95, 254.55, 282.75, 343.05, 252.3, 296.55, 332.4, 306.6, 272.25, 284.55, 262.65, 254.25, 351.0, 271.8, 327.9, 333.75, 274.8, 309.15, 336.15, 309.75, 334.65, 273.6, 239.85, 325.5, 217.65, 220.5, 220.2, 321.75, 191.85, 319.35, 325.05, 264.75, 307.35, 290.85, 373.95, 372.45, 257.7, 251.85, 283.8, 179.7, 269.4, 207.75, 247.05, 293.85, 339.75, 282.3, 333.75, 243.75, 203.25, 193.35, 290.1, 252.3, 238.8, 243.75, 295.95, 317.1, 268.8, 328.2, 220.95, 287.85, 318.3, 286.2, 241.65, 321.6, 190.35, 286.2, 238.95, 277.65, 305.7, 235.35, 321.3, 271.2, 295.35, 172.65, 268.8, 222.15, 310.35, 249.75, 269.85, 253.5, 269.85, 233.4, 291.45, 355.35, 174.75, 298.8, 189.3, 266.85, 262.8, 225.0, 260.85, 293.7, 301.05, 202.8, 258.3, 200.55, 271.5, 245.7, 346.05, 276.3, 236.1, 304.05, 287.55, 256.95, 249.9, 294.45, 304.05, 280.95, 232.8, 242.4, 337.95, 240.15, 263.55, 280.05, 308.7, 276.45, 252.0, 296.4, 240.9, 319.95, 240.6, 221.55, 325.95, 224.1, 309.3, 240.75, 194.4, 288.15, 337.8, 380.7, 273.0, 247.05, 318.45, 300.15, 233.1, 274.05, 256.8, 309.9, 331.8, 208.5, 247.35, 237.9, 143.85, 261.9, 200.7, 279.15, 247.2, 213.15, 250.5, 215.55, 290.25, 231.15, 284.1, 246.75, 286.8, 335.7, 215.4, 284.25, 331.65, 218.85, 233.25, 308.85, 270.15, 212.85, 252.9, 249.15, 276.6, 294.45, 208.2, 305.1, 294.45, 231.6, 288.9, 234.0, 258.45, 247.8, 287.55, 239.85, 309.15, 202.2, 242.25, 274.8, 228.6, 235.5, 400.35, 274.65, 236.7, 253.05, 242.25, 342.45, 244.5, 319.8, 305.85, 165.75, 197.1, 246.75, 247.5, 294.0, 265.2, 282.15, 349.5, 261.3, 223.2, 277.95, 292.95, 228.9, 324.6, 284.4, 269.4, 333.45, 240.6, 278.4, 154.5, 257.7, 324.75, 219.75, 255.9, 241.2, 199.35, 178.2, 329.85, 310.5, 200.55, 249.45, 305.4, 176.85, 262.5, 351.15, 280.95, 242.4, 212.1, 269.4, 186.0, 239.1, 239.85, 203.4, 201.6, 276.75, 292.35, 247.05, 216.9, 263.1, 258.9, 329.1, 266.25, 253.35, 304.5, 308.1, 239.1, 277.95, 284.4, 201.45, 291.45, 307.65, 294.75, 301.95, 339.3, 234.0, 252.15, 258.45, 244.65, 248.55, 293.7, 273.0, 352.8, 347.1, 285.0, 243.9, 248.25, 275.4, 245.1, 254.25, 205.65, 360.15, 234.6, 230.1, 226.8, 314.7, 307.5, 226.5, 285.45, 258.9, 231.15, 301.2, 194.1, 253.5, 286.8, 215.85, 306.45, 331.35, 265.65, 215.55, 254.25, 278.25, 297.3, 304.65, 281.1, 214.8, 283.2, 299.25, 225.75, 231.9, 263.85, 246.9, 293.7, 307.95, 305.55, 156.6, 343.5, 192.0, 245.25, 277.95, 150.45, 233.4, 322.05, 272.1, 281.85, 243.3, 276.6, 306.3, 267.9, 303.15, 318.75, 195.6, 281.4, 295.05, 341.4, 307.05, 304.8, 268.95, 256.2, 197.55, 360.15, 257.55, 283.95, 291.15, 160.5, 313.95, 300.0, 233.85, 297.45, 256.8, 303.6, 215.4, 256.95, 199.2, 244.05, 223.65, 234.45, 241.5, 252.3, 376.95, 251.1, 244.2, 273.0, 248.1, 241.5, 288.75, 279.0, 276.15, 248.4, 337.2, 207.45, 254.55, 244.35, 231.3, 193.8, 332.7, 312.15, 256.35, 260.85, 282.75, 315.15, 269.25, 304.2, 279.0, 320.4, 257.55, 230.55, 232.95, 317.55, 240.6, 207.15, 327.75, 261.6, 262.65, 312.0, 282.9, 232.05, 211.35, 314.55, 271.5, 238.05, 263.85, 221.55, 273.15, 261.9, 313.35, 248.4, 280.35, 307.95, 325.05, 363.75, 284.7, 284.1, 233.4, 279.0, 271.95, 212.85, 322.35, 175.8, 246.75, 372.45, 244.65, 310.8, 253.35, 212.4, 275.55, 306.9, 308.85, 283.05, 222.9, 290.55, 262.8, 258.0, 203.55, 303.3, 263.7, 239.4, 225.15, 344.7, 262.5, 166.35, 232.65, 241.8, 326.4, 255.75, 258.75, 394.8, 244.05, 298.8, 231.75, 304.5, 291.45, 243.9, 274.5, 241.95, 239.55, 225.45, 289.2, 285.15, 270.15, 304.65, 235.65, 329.1, 291.9, 322.65, 322.35, 277.2, 266.55, 209.7, 310.2, 285.3, 266.1, 252.15, 270.45, 314.4, 187.95, 261.0, 240.15, 346.8, 211.2, 260.25, 253.2, 265.5, 242.7, 335.1, 208.65, 278.7, 226.8, 264.6, 244.95, 276.75, 291.45, 246.0, 316.65, 382.65, 284.55, 280.5, 190.95, 282.6, 209.85, 278.7, 264.75, 210.15, 276.6, 278.7, 274.65, 279.0, 281.55, 273.75, 347.55, 259.8, 181.35, 247.8, 225.3, 214.8, 304.05, 242.55, 297.45, 299.25, 229.95, 324.45, 347.7, 219.6, 311.25, 340.2, 286.2, 244.2, 264.45, 331.35, 265.5, 304.2, 310.35, 292.95, 256.5, 283.2, 265.35, 252.9, 214.95, 235.95, 292.05, 296.85, 286.5, 361.35, 287.25, 332.1, 381.6, 312.45, 207.75, 202.35, 263.25, 371.85, 253.05, 256.05, 143.25, 318.15, 280.05, 303.0, 259.05, 272.4, 350.7, 235.8, 281.7, 334.65, 195.3, 336.0, 364.35, 299.25, 308.7, 303.45, 194.55, 351.15, 207.9, 271.05, 249.75, 216.3, 247.95, 270.15, 336.45, 300.15, 226.95, 237.15, 336.15, 327.3, 244.35, 240.9, 248.25, 271.95, 313.95, 267.15, 268.2, 221.85, 281.55, 202.65, 243.0, 355.5, 313.2, 252.15, 278.85, 237.0, 294.0, 202.5, 265.8, 275.1, 261.15, 226.65, 218.55, 301.5, 206.7, 217.5, 235.65, 250.2, 213.3, 175.5, 177.3, 242.55, 271.8, 214.2, 213.3, 253.35, 250.95, 298.5, 224.85, 250.05, 255.9, 290.55, 283.5, 259.8, 210.75, 219.9, 225.75, 241.95, 252.15, 272.4, 241.8, 232.35, 309.15, 257.4, 306.3, 255.15, 289.65, 343.5, 214.35, 300.9, 367.8, 268.35, 260.55, 245.7, 271.95, 318.0, 174.9, 329.25, 253.95, 283.5, 373.95, 219.75, 300.75, 275.55, 265.05, 273.45, 217.05, 263.4, 314.1, 262.8, 266.1, 293.4, 309.3, 198.3, 289.95, 248.4, 252.75, 200.25, 226.35, 277.8, 270.45, 200.25, 221.25, 199.95, 248.1, 248.4, 317.7, 310.5, 270.6, 321.45, 273.75, 298.65, 300.3, 320.25, 287.4, 309.0, 209.7, 290.55, 200.7, 277.05, 282.75, 249.75, 170.7, 324.0, 279.45, 278.25, 192.6, 265.95, 265.8, 247.95, 313.05, 323.55, 249.15, 309.0, 331.05, 246.75, 274.05, 277.8, 300.9, 285.0, 286.05, 308.55, 273.6, 312.9, 184.5, 219.15, 205.2, 283.8, 250.35, 213.75, 246.6, 318.15, 243.6, 261.75, 281.4, 186.45, 214.35, 232.5, 294.0, 302.55, 302.1, 270.9, 278.85, 207.75, 340.2, 314.85, 271.8, 290.55, 284.4, 217.5, 181.05, 320.1, 312.9, 174.9, 202.5, 233.7, 304.65, 278.7, 260.1, 211.35, 278.1, 203.25, 272.7, 322.35, 295.65, 279.0, 298.35, 281.55, 270.0, 232.8, 222.15, 304.05, 331.8, 262.2, 246.9, 265.35, 374.1, 267.6, 221.7, 353.1, 187.05, 217.95, 353.25, 205.95, 228.6, 290.85, 313.2, 349.05, 285.9, 236.1, 276.9, 247.8, 218.25, 333.3, 226.95, 192.75, 248.1, 261.45, 295.35, 256.05, 303.0, 346.35, 270.9, 352.8, 210.9, 284.55, 216.0, 250.8, 306.3, 246.9, 272.4, 277.05, 225.6, 139.05, 223.05, 223.95, 240.9, 295.2, 186.45, 280.8, 294.9, 252.9, 305.7, 234.3, 230.25, 206.25, 278.7, 239.7, 387.75, 285.9, 371.1, 250.35, 225.45, 364.2, 364.95, 247.35, 230.85, 300.9, 317.4, 297.3, 205.2, 394.8, 304.8, 262.8, 325.35, 310.35, 273.3, 248.25, 312.9, 266.1, 195.6, 321.15, 287.85, 265.05, 229.8, 276.9, 260.85, 281.25, 265.05, 245.25, 359.7, 306.75, 291.45, 260.1, 272.85, 275.1, 368.1, 273.45, 225.75, 216.75, 222.45, 215.1, 189.0, 268.65, 259.35, 309.6, 189.9, 246.0, 308.4, 318.75, 179.55, 232.65, 351.0, 238.95, 312.3, 215.1, 292.05, 266.25, 276.0, 275.4, 273.9, 238.2, 255.9, 193.95, 326.55, 288.9, 218.7, 310.95, 328.95, 234.15, 285.3, 266.25, 300.45, 357.45, 269.55, 231.3, 270.9, 268.2, 293.1, 299.85, 260.4, 311.25, 216.45, 285.6, 241.05, 234.45, 235.65, 262.35, 258.3, 239.7, 236.25, 333.9, 262.2, 335.85, 321.9, 300.3, 312.0, 257.55, 235.8, 217.8, 303.45, 238.05, 262.05, 260.1, 291.3, 199.65, 189.0, 299.85, 246.15, 280.5, 346.05, 276.3, 315.9, 247.95, 220.5, 298.05, 276.45, 297.6, 342.6, 277.05, 265.05, 153.6, 299.25, 240.15, 311.25, 309.3, 262.5, 260.4, 230.25, 214.65, 241.8, 302.85, 309.45, 309.45, 310.05, 321.6, 348.75, 296.25, 319.65, 330.75, 222.9, 258.45, 263.85, 232.35, 219.0, 302.1, 309.3, 283.2, 327.6, 236.25, 162.45, 234.9, 311.25, 195.75, 291.75, 243.75, 240.15, 307.5, 301.5, 254.7, 333.3, 295.95, 378.9, 236.25, 294.45, 356.7, 193.65, 210.75, 178.5, 150.75, 308.25, 305.85, 200.4, 326.25, 316.65, 269.25, 240.3, 333.75, 178.05, 292.2, 281.25, 243.0, 267.45, 248.55, 202.5, 256.05, 339.45, 221.1, 282.9, 222.75, 272.7, 206.7, 275.85, 256.65, 263.7, 256.5, 224.55, 269.4, 243.9, 190.35, 225.0, 254.55, 307.05, 324.0, 265.2, 267.9, 258.3, 276.9, 250.2, 268.65, 263.25, 293.4, 228.45, 207.45, 228.0, 303.75, 304.05, 317.25, 198.15, 333.45, 213.6, 276.15, 323.55, 275.55, 261.9, 286.5, 202.8, 233.55, 315.75, 263.1, 214.35, 326.85, 258.3, 237.0, 329.55, 199.8, 386.55, 310.35, 288.9, 256.65, 275.1, 189.15, 274.2, 227.4, 254.55, 239.1, 230.1, 262.2, 287.4, 285.9, 284.25, 320.7, 293.55, 360.0, 209.85, 294.15, 196.65, 303.6, 248.55, 271.5, 231.0, 233.85, 316.95, 304.8, 236.1, 282.0, 224.25, 237.9, 288.0, 295.5, 224.1, 269.1, 237.45, 295.2, 214.5, 257.1, 211.2, 220.8, 254.55, 318.0, 282.45, 380.55, 294.9, 228.75, 287.55, 266.55, 270.6, 284.55, 250.05, 272.25, 267.0, 332.85, 222.9, 292.8, 216.3, 199.5, 224.4, 291.3, 270.9, 272.55, 189.75, 233.25, 326.85, 265.2, 185.1, 183.15, 309.9, 301.35, 299.1, 337.65, 262.5, 307.05, 204.9, 240.0, 238.2, 272.85, 260.4]\n"
     ]
    }
   ],
   "source": [
    "#set availability\n",
    "mask = np.zeros(CALENDAR_SIZE)\n",
    "mask[7:23, :] = 1\n",
    "mask = mask.astype(int)\n",
    "\n",
    "\n",
    "dates = [\"2018-11-26\", \"2018-11-27\", \"2018-11-28\", \"2018-11-29\", \"2018-11-30\", \"2018-12-01\", \"2018-12-02\"]\n",
    "\n",
    "trials = 5000\n",
    "trial_earnings_recs = []\n",
    "#generate recommendation-based-earnings\n",
    "for i in range(trials):\n",
    "    hours = np.random.normal(20, 3)\n",
    "    traffic_preference = np.random.normal(1, 0.5)\n",
    "    weights = {'traffic': traffic_preference}\n",
    "    if i%100 == 0: \n",
    "        print(\"%d of %d [%d%%]\"%(i, trials, 100*i/trials)) \n",
    "    cmatrix = simple_model(weights, mask, hours, CALENDAR_SIZE, dates, verbose = False)\n",
    "    trial_earnings_recs.append(np.mean(schedule_model(cmatrix, verbose = False)))\n",
    "\n",
    "trial_earnings_rand = []\n",
    "#generate recommendation-based-earnings    \n",
    "for i in range(trials): \n",
    "    hours = np.random.normal(20, 3)\n",
    "    cdf = (np.random.random(CALENDAR_SIZE))\n",
    "    cdf = (cdf * mask)\n",
    "    if i%100 == 0: \n",
    "        print(\"%d of %d [%d%%]\"%(i, trials, 100*i/trials)) \n",
    "    cmatrix = (cdf > np.quantile(cdf, (24*7 - hours)/(24*7))).astype(int)\n",
    "    trial_earnings_rand.append(np.mean(schedule_model(cmatrix, verbose = False)))\n",
    "    \n",
    "print(trial_earnings_recs)\n",
    "print(trial_earnings_rand)"
   ]
  },
  {
   "cell_type": "code",
   "execution_count": 43,
   "metadata": {},
   "outputs": [],
   "source": [
    "with open(\"recs.txt\", \"x\") as f: \n",
    "    f.write(str(trial_earnings_recs))\n",
    "with open(\"rand.txt\", \"x\") as f: \n",
    "    f.write(str(trial_earnings_rand))"
   ]
  },
  {
   "cell_type": "code",
   "execution_count": null,
   "metadata": {},
   "outputs": [],
   "source": [
    "hours = np.random.normal(20, 3)\n",
    "cdf = (np.random.random(CALENDAR_SIZE))\n",
    "cdf = (cdf * mask)\n",
    "cmatrix = (cdf > np.quantile(cdf, (24*7 - hours)/(24*7))).astype(int)\n",
    "plt.imshow(cmatrix)"
   ]
  },
  {
   "cell_type": "code",
   "execution_count": null,
   "metadata": {},
   "outputs": [],
   "source": [
    "\n",
    "cdf = generate_calendar_matrix((np.random.random(CALENDAR_SIZE) > 0.75).astype(int))"
   ]
  },
  {
   "cell_type": "code",
   "execution_count": 35,
   "metadata": {},
   "outputs": [
    {
     "data": {
      "text/plain": [
       "1.527185786153098"
      ]
     },
     "execution_count": 35,
     "metadata": {},
     "output_type": "execute_result"
    }
   ],
   "source": [
    "np.random.normal(1, 0.5)"
   ]
  },
  {
   "cell_type": "code",
   "execution_count": 44,
   "metadata": {},
   "outputs": [
    {
     "data": {
      "text/plain": [
       "Ttest_indResult(statistic=-2.859303688621242, pvalue=0.004254506739589373)"
      ]
     },
     "execution_count": 44,
     "metadata": {},
     "output_type": "execute_result"
    }
   ],
   "source": [
    "from scipy.stats import ttest_ind\n",
    "ttest_ind(np.array(trial_earnings_recs), np.array(trial_earnings_rand))"
   ]
  },
  {
   "cell_type": "code",
   "execution_count": 48,
   "metadata": {},
   "outputs": [
    {
     "data": {
      "text/plain": [
       "265.77207000000004"
      ]
     },
     "execution_count": 48,
     "metadata": {},
     "output_type": "execute_result"
    }
   ],
   "source": [
    "np.mean(np.array(trial_earnings_recs))"
   ]
  },
  {
   "cell_type": "code",
   "execution_count": 49,
   "metadata": {},
   "outputs": [
    {
     "data": {
      "text/plain": [
       "268.4343"
      ]
     },
     "execution_count": 49,
     "metadata": {},
     "output_type": "execute_result"
    }
   ],
   "source": [
    "np.mean(np.array(trial_earnings_rand))"
   ]
  }
 ],
 "metadata": {
  "kernelspec": {
   "display_name": "'Python Interactive'",
   "language": "python",
   "name": "42742699-c8e5-4e26-9fb4-8e2abe7a830e"
  },
  "language_info": {
   "codemirror_mode": {
    "name": "ipython",
    "version": 3
   },
   "file_extension": ".py",
   "mimetype": "text/x-python",
   "name": "python",
   "nbconvert_exporter": "python",
   "pygments_lexer": "ipython3",
   "version": "3.7.1"
  }
 },
 "nbformat": 4,
 "nbformat_minor": 2
}
