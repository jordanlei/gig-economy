{
 "cells": [
  {
   "cell_type": "code",
   "execution_count": 111,
   "metadata": {},
   "outputs": [],
   "source": [
    "import numpy as np\n",
    "import matplotlib.pyplot as plt\n",
    "import pandas as pd\n",
    "import math\n",
    "import sklearn\n",
    "\n",
    "CALENDAR_SIZE = (24, 7)"
   ]
  },
  {
   "cell_type": "code",
   "execution_count": 112,
   "metadata": {},
   "outputs": [
    {
     "name": "stdout",
     "output_type": "stream",
     "text": [
      "    mon  tues  wed  thur  fri  sat  sun\n",
      "0   0.0   0.0  0.0   0.0  0.0  0.0  0.0\n",
      "1   0.0   0.0  0.0   0.0  0.0  0.0  0.0\n",
      "2   0.0   0.0  0.0   0.0  0.0  0.0  0.0\n",
      "3   0.0   0.0  0.0   0.0  0.0  0.0  0.0\n",
      "4   0.0   0.0  0.0   0.0  0.0  0.0  0.0\n",
      "5   0.0   0.0  0.0   0.0  0.0  0.0  0.0\n",
      "6   0.0   0.0  0.0   0.0  0.0  0.0  0.0\n",
      "7   0.0   0.0  0.0   0.0  0.0  0.0  0.0\n",
      "8   0.0   0.0  0.0   0.0  0.0  0.0  0.0\n",
      "9   0.0   0.0  0.0   0.0  0.0  0.0  0.0\n",
      "10  0.0   0.0  0.0   0.0  0.0  0.0  0.0\n",
      "11  0.0   0.0  0.0   0.0  0.0  0.0  0.0\n",
      "12  0.0   0.0  0.0   0.0  0.0  0.0  0.0\n",
      "13  0.0   0.0  0.0   0.0  0.0  0.0  0.0\n",
      "14  0.0   0.0  0.0   0.0  0.0  0.0  0.0\n",
      "15  0.0   0.0  0.0   0.0  0.0  0.0  0.0\n",
      "16  0.0   0.0  0.0   0.0  0.0  0.0  0.0\n",
      "17  0.0   0.0  0.0   0.0  0.0  0.0  0.0\n",
      "18  0.0   0.0  0.0   0.0  0.0  0.0  0.0\n",
      "19  0.0   0.0  0.0   0.0  0.0  0.0  0.0\n",
      "20  0.0   0.0  0.0   0.0  0.0  0.0  0.0\n",
      "21  0.0   0.0  0.0   0.0  0.0  0.0  0.0\n",
      "22  0.0   0.0  0.0   0.0  0.0  0.0  0.0\n",
      "23  0.0   0.0  0.0   0.0  0.0  0.0  0.0\n"
     ]
    }
   ],
   "source": [
    "def generate_calendar_matrix(arr = None): \n",
    "    '''\n",
    "    Generates a calendar matrix based off\n",
    "    an optional numpy input array. If no arr\n",
    "    is inputted, the default is zero\n",
    "    '''\n",
    "    if arr is None:\n",
    "        arr = np.zeros(CALENDAR_SIZE)\n",
    "    df = pd.DataFrame(arr, index = range(CALENDAR_SIZE[0]), columns= [\"mon\", \"tues\", \"wed\", \"thur\", \"fri\", \"sat\", \"sun\"])\n",
    "    return df\n",
    "\n",
    "print(generate_calendar_matrix())"
   ]
  },
  {
   "cell_type": "code",
   "execution_count": 126,
   "metadata": {},
   "outputs": [
    {
     "data": {
      "image/png": "[encoded data removed]",
      "text/plain": [
       "<Figure size 432x288 with 1 Axes>"
      ]
     },
     "metadata": {
      "needs_background": "light"
     },
     "output_type": "display_data"
    },
    {
     "data": {
      "image/png": "[encoded data removed]",
      "text/plain": [
       "<Figure size 432x288 with 1 Axes>"
      ]
     },
     "metadata": {
      "needs_background": "light"
     },
     "output_type": "display_data"
    },
    {
     "name": "stdout",
     "output_type": "stream",
     "text": [
      "Here\n"
     ]
    },
    {
     "data": {
      "image/png": "[encoded data removed]",
      "text/plain": [
       "<Figure size 432x288 with 1 Axes>"
      ]
     },
     "metadata": {
      "needs_background": "light"
     },
     "output_type": "display_data"
    },
    {
     "name": "stdout",
     "output_type": "stream",
     "text": [
      "\n",
      "--Wav \n",
      "\n"
     ]
    },
    {
     "data": {
      "image/png": "[encoded data removed]",
      "text/plain": [
       "<Figure size 432x288 with 1 Axes>"
      ]
     },
     "metadata": {
      "needs_background": "light"
     },
     "output_type": "display_data"
    },
    {
     "name": "stdout",
     "output_type": "stream",
     "text": [
      "\n",
      "--Wav_t \n",
      "\n"
     ]
    },
    {
     "data": {
      "image/png": "[encoded data removed]",
      "text/plain": [
       "<Figure size 432x288 with 1 Axes>"
      ]
     },
     "metadata": {
      "needs_background": "light"
     },
     "output_type": "display_data"
    },
    {
     "data": {
      "image/png": "[encoded data removed]",
      "text/plain": [
       "<Figure size 432x288 with 1 Axes>"
      ]
     },
     "metadata": {
      "needs_background": "light"
     },
     "output_type": "display_data"
    }
   ],
   "source": [
    "def traffic_data(): \n",
    "    noise = np.random.normal(0, 1, CALENDAR_SIZE)\n",
    "    x = np.arange(CALENDAR_SIZE[1])\n",
    "    y = np.arange(CALENDAR_SIZE[0])\n",
    "    _, yv = np.meshgrid(x, y)\n",
    "    traffic = noise*0.2 + (-1* np.cos(yv/1.8))\n",
    "    mean_traffic = np.mean(traffic)\n",
    "    std_traffic = np.std(traffic)\n",
    "    normalized = (traffic - mean_traffic) / std_traffic\n",
    "    return normalized\n",
    "\n",
    "def events_data(): \n",
    "    events = (np.random.normal(0, 1, CALENDAR_SIZE) > 1.5).astype(float)\n",
    "    return events\n",
    "\n",
    "\n",
    "def weighted_average(traffic, events, weights, max_hours = 40, mask = None):\n",
    "    weighted_av = weights['traffic'] * traffic + weights['events'] * events\n",
    "    weighted_av = weighted_av - np.min(weighted_av)\n",
    "    if not mask is None:\n",
    "        weighted_av[mask] = np.min(weighted_av) - 1\n",
    "        print(\"Here\")\n",
    "        \n",
    "    weighted_av_thresh = weighted_av >= np.quantile(weighted_av, 1 - max_hours/(CALENDAR_SIZE[0] * CALENDAR_SIZE[1]))\n",
    "    \n",
    "    return weighted_av_thresh, weighted_av\n",
    "\n",
    "def edge_link(wav_thresh): \n",
    "    wav_thresh[1: wav_thresh.shape[0] - 1] = wav_thresh[1: wav_thresh.shape[0]-1] | \n",
    "                                            (wav_thresh[2:wav_thresh.shape[0]] & wav_thresh[:wav_thresh.shape[0] - 2])\n",
    "#     for i in range(1, wav_thresh.shape[0]-1):\n",
    "#         wav_thresh[i] = wav_thresh[i] | (wav_thresh[i-1] & wav_thresh[i+1])\n",
    "    return wav_thresh\n",
    "        \n",
    "\n",
    "def simple_model(): \n",
    "    np.random.seed(8)\n",
    "    traffic = traffic_data()\n",
    "    \n",
    "    #print(\"\\n--Traffic \\n\", generate_calendar_matrix(traffic))\n",
    "    events = events_data()\n",
    "    plt.imshow(traffic)\n",
    "    plt.show()\n",
    "    \n",
    "    #print(\"\\n--Events \\n\", generate_calendar_matrix(events))\n",
    "    #heavy weight on events\n",
    "    weights = {'traffic': 3, 'events': 10}\n",
    "    \n",
    "    #dummy mask\n",
    "    mask = np.ones(CALENDAR_SIZE)\n",
    "    mask[0:5] = 0\n",
    "    mask[20: 24] = 0\n",
    "    mask = ~mask.astype(bool)\n",
    "    plt.imshow(mask) \n",
    "    plt.show()\n",
    "    \n",
    "    wav_t, wav = weighted_average(traffic, events, weights, mask=mask)\n",
    "    plt.imshow(events)\n",
    "    plt.show()\n",
    "    \n",
    "    print(\"\\n--Wav \\n\")#, generate_calendar_matrix(wav))\n",
    "    plt.imshow(wav)\n",
    "    plt.show()\n",
    "    \n",
    "    print(\"\\n--Wav_t \\n\")#, generate_calendar_matrix(wav_t))\n",
    "    plt.imshow(wav_t)\n",
    "    plt.show()\n",
    "    \n",
    "    \n",
    "    plt.imshow(edge_link(wav_t))\n",
    "    \n",
    "    return edge_link(wav_t)\n",
    "    \n",
    "wav_t = simple_model()"
   ]
  },
  {
   "cell_type": "code",
   "execution_count": 122,
   "metadata": {},
   "outputs": [
    {
     "data": {
      "text/plain": [
       "array([False, False, False, False, False, False, False])"
      ]
     },
     "execution_count": 122,
     "metadata": {},
     "output_type": "execute_result"
    }
   ],
   "source": [
    "wav_t[0] & wav_t[1]"
   ]
  },
  {
   "cell_type": "code",
   "execution_count": 114,
   "metadata": {},
   "outputs": [
    {
     "data": {
      "text/plain": [
       "<matplotlib.image.AxesImage at 0x1828ceee940>"
      ]
     },
     "execution_count": 114,
     "metadata": {},
     "output_type": "execute_result"
    },
    {
     "data": {
      "image/png": "[encoded data removed]",
      "text/plain": [
       "<Figure size 432x288 with 1 Axes>"
      ]
     },
     "metadata": {
      "needs_background": "light"
     },
     "output_type": "display_data"
    }
   ],
   "source": [
    "x = np.arange(7)\n",
    "y = np.arange(24)\n",
    "xv, yv = np.meshgrid(x, y)\n",
    "plt.imshow(np.sin(yv/2))"
   ]
  },
  {
   "cell_type": "code",
   "execution_count": null,
   "metadata": {},
   "outputs": [],
   "source": []
  }
 ],
 "metadata": {
  "kernelspec": {
   "display_name": "Python 3",
   "language": "python",
   "name": "python3"
  },
  "language_info": {
   "codemirror_mode": {
    "name": "ipython",
    "version": 3
   },
   "file_extension": ".py",
   "mimetype": "text/x-python",
   "name": "python",
   "nbconvert_exporter": "python",
   "pygments_lexer": "ipython3",
   "version": "3.7.1"
  }
 },
 "nbformat": 4,
 "nbformat_minor": 2
}
